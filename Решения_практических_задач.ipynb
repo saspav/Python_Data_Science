{
  "cells": [
    {
      "cell_type": "markdown",
      "metadata": {
        "id": "view-in-github",
        "colab_type": "text"
      },
      "source": [
        "<a href=\"https://colab.research.google.com/github/saspav/Python_Data_Science/blob/main/%D0%A0%D0%B5%D1%88%D0%B5%D0%BD%D0%B8%D1%8F_%D0%BF%D1%80%D0%B0%D0%BA%D1%82%D0%B8%D1%87%D0%B5%D1%81%D0%BA%D0%B8%D1%85_%D0%B7%D0%B0%D0%B4%D0%B0%D1%87.ipynb\" target=\"_parent\"><img src=\"https://colab.research.google.com/assets/colab-badge.svg\" alt=\"Open In Colab\"/></a>"
      ]
    },
    {
      "cell_type": "markdown",
      "metadata": {
        "id": "o9Yvkf85cYMP"
      },
      "source": [
        "### Анализ данных (Введение в Python и обработку таблиц)\n",
        "\n",
        "#### Решение практических задач курса https://stepik.org/course/126333/syllabus"
      ]
    },
    {
      "cell_type": "code",
      "execution_count": 1,
      "metadata": {
        "id": "ailNdIGipAWZ"
      },
      "outputs": [],
      "source": [
        "import os\n",
        "import numpy as np\n",
        "import pandas as pd\n",
        "\n",
        "import matplotlib.pyplot as plt\n",
        "import seaborn as sns\n",
        "import matplotlib.colors as plt_colors\n",
        "\n",
        "colors_list = list(plt_colors._colors_full_map.values())\n",
        "\n",
        "pd.options.display.max_columns = None\n",
        "\n",
        "params = {\n",
        "          'axes.titlesize': 15,   # Размер шрифта главной подписи\n",
        "          'axes.labelsize': 14,   # Размер шрифта подписей осей\n",
        "          'xtick.labelsize': 12,  # Размер шрифта подписей тикетов оси X\n",
        "          'ytick.labelsize': 12,  # Размер шрифта подписей тикетов оси Y\n",
        "\n",
        "          }\n",
        "\n",
        "plt.rcParams.update(params)\n",
        "\n",
        "__import__('warnings').filterwarnings(\"ignore\")"
      ]
    },
    {
      "cell_type": "markdown",
      "metadata": {
        "id": "f-V0jsdLcYMS"
      },
      "source": [
        "#### Основы обработки таблиц"
      ]
    },
    {
      "cell_type": "code",
      "execution_count": 2,
      "metadata": {
        "id": "mQNkhFZTsLhZ"
      },
      "outputs": [],
      "source": [
        "file_csv = 'https://stepik.org/media/attachments/lesson/802033/students.csv'\n",
        "test_csv = 'https://stepik.org/media/attachments/lesson/802417/students_test.csv'\n",
        "\n",
        "df = pd.read_csv(file_csv)"
      ]
    },
    {
      "cell_type": "code",
      "execution_count": 3,
      "metadata": {
        "colab": {
          "base_uri": "https://localhost:8080/",
          "height": 652
        },
        "id": "25LWHZK_OsYT",
        "outputId": "fa99729f-f88b-4c07-acec-e43d6d2a1372"
      },
      "outputs": [
        {
          "output_type": "execute_result",
          "data": {
            "text/plain": [
              "   Age  Growth  Shoe size  Course number  Year of birth  Friend number  \\\n",
              "0   20     170         40              2           2002            100   \n",
              "1   22     191         43              7           2000            307   \n",
              "2   21     172         41              4           2000            186   \n",
              "3   19     168         38              2           2003            604   \n",
              "4   23     159         36              1           1998            144   \n",
              "\n",
              "   Russian rating  Maths rating  Physics rating  Computer science rating  \\\n",
              "0              85            86               0                       84   \n",
              "1              69            74              64                       72   \n",
              "2              78            62               0                        0   \n",
              "3              72             0               0                        0   \n",
              "4               0             0               0                        0   \n",
              "\n",
              "   Chemistry rating  Literature rating  History rating  Geography rating  \\\n",
              "0                 0                  0               0                 0   \n",
              "1                 0                  0               0                 0   \n",
              "2                 0                  0               0                 0   \n",
              "3                 0                  0              98                 0   \n",
              "4                 0                  0               0                 0   \n",
              "\n",
              "   Biology rating  Foreign language rating  Social science rating  \\\n",
              "0               0                        0                      0   \n",
              "1               0                        0                      0   \n",
              "2               0                        0                     70   \n",
              "3               0                        0                     91   \n",
              "4               0                        0                      0   \n",
              "\n",
              "   Distance to home km  Minutes to first class  Children number  \\\n",
              "0                    0                     150              4.0   \n",
              "1                    0                      50              NaN   \n",
              "2                    0                      80              2.0   \n",
              "3                  640                      40              2.0   \n",
              "4                 2505                      40              2.5   \n",
              "\n",
              "   Removed teeth  Weight                              Glasses      Sex  \\\n",
              "0            0.0    64.0                                   да  женский   \n",
              "1            NaN    73.0  простите. не увидел(а) вопроса ))))  мужской   \n",
              "2            0.0    60.0                                   да  мужской   \n",
              "3            0.0    59.0                                  нет  женский   \n",
              "4            1.0    57.0                                  нет  женский   \n",
              "\n",
              "  Problems in last semester   Coin Rock paper scissors Animal  \\\n",
              "0                       нет   Орел              Камень  Кошек   \n",
              "1                       нет   Орел              Камень  Собак   \n",
              "2                       нет  Решка             Ножницы  Собак   \n",
              "3                       нет  Решка             Ножницы  Собак   \n",
              "4                       нет   Орел              Бумага  Кошек   \n",
              "\n",
              "   Month of birthday     Your rating in university  \\\n",
              "0                  6  выше средней по университету   \n",
              "1                  4  ниже средней по университету   \n",
              "2                  8  выше средней по университету   \n",
              "3                  1  выше средней по университету   \n",
              "4                 12  выше средней по университету   \n",
              "\n",
              "                                          Fastfood  Height of 5000 mm  \\\n",
              "0                                      Бургер кинг                100   \n",
              "1                                              KFC                 50   \n",
              "2  Макдональдс (или как он там сейчас называется?)                 75   \n",
              "3  Макдональдс (или как он там сейчас называется?)                 50   \n",
              "4                                      Бургер кинг                 35   \n",
              "\n",
              "   Width of 5000 mm  Putin age                              Army Hostel  \\\n",
              "0               200         68  не призовут (по разным причинам)    нет   \n",
              "1                 8         53  не призовут (по разным причинам)    нет   \n",
              "2               170         69                    могут призвать    нет   \n",
              "3               100         70  не призовут (по разным причинам)    нет   \n",
              "4               120         67  не призовут (по разным причинам)    нет   \n",
              "\n",
              "   Hair length  Floor number  Social network duration min Chocolate  \\\n",
              "0         50.0             7                           45   Сникерс   \n",
              "1          7.0             5                          180    КитКат   \n",
              "2          4.0             7                           90    КитКат   \n",
              "3         20.0             5                          200    Баунти   \n",
              "4         55.0             3                          400    Баунти   \n",
              "\n",
              "   City population       Strange people        Your insitute  \\\n",
              "0         800000.0        Экономический  Математический и ИТ   \n",
              "1         800000.0  Математический и ИТ  Математический и ИТ   \n",
              "2         770000.0       Педагогический               Другое   \n",
              "3         900000.0               СоцГум          Юридический   \n",
              "4         860000.0       Педагогический       Педагогический   \n",
              "\n",
              "           Brother-sister                       Plane seat  \\\n",
              "0  нет ни брата ни сестры  У окна (пардон: у иллюминатора)   \n",
              "1    есть и брат и сестра                       В середине   \n",
              "2               есть брат  У окна (пардон: у иллюминатора)   \n",
              "3             есть сестра  У окна (пардон: у иллюминатора)   \n",
              "4             есть сестра  У окна (пардон: у иллюминатора)   \n",
              "\n",
              "   MIddle and index finger  Middle and ring finger  Middle and little finger  \n",
              "0                       20                    10.0                      40.0  \n",
              "1                        5                     5.0                      20.0  \n",
              "2                       13                    10.0                      26.0  \n",
              "3                       12                    13.5                      35.0  \n",
              "4                       10                    11.0                      22.0  "
            ],
            "text/html": [
              "\n",
              "  <div id=\"df-bec88d73-4f8e-4de9-a240-9ec25ee6bd9b\">\n",
              "    <div class=\"colab-df-container\">\n",
              "      <div>\n",
              "<style scoped>\n",
              "    .dataframe tbody tr th:only-of-type {\n",
              "        vertical-align: middle;\n",
              "    }\n",
              "\n",
              "    .dataframe tbody tr th {\n",
              "        vertical-align: top;\n",
              "    }\n",
              "\n",
              "    .dataframe thead th {\n",
              "        text-align: right;\n",
              "    }\n",
              "</style>\n",
              "<table border=\"1\" class=\"dataframe\">\n",
              "  <thead>\n",
              "    <tr style=\"text-align: right;\">\n",
              "      <th></th>\n",
              "      <th>Age</th>\n",
              "      <th>Growth</th>\n",
              "      <th>Shoe size</th>\n",
              "      <th>Course number</th>\n",
              "      <th>Year of birth</th>\n",
              "      <th>Friend number</th>\n",
              "      <th>Russian rating</th>\n",
              "      <th>Maths rating</th>\n",
              "      <th>Physics rating</th>\n",
              "      <th>Computer science rating</th>\n",
              "      <th>Chemistry rating</th>\n",
              "      <th>Literature rating</th>\n",
              "      <th>History rating</th>\n",
              "      <th>Geography rating</th>\n",
              "      <th>Biology rating</th>\n",
              "      <th>Foreign language rating</th>\n",
              "      <th>Social science rating</th>\n",
              "      <th>Distance to home km</th>\n",
              "      <th>Minutes to first class</th>\n",
              "      <th>Children number</th>\n",
              "      <th>Removed teeth</th>\n",
              "      <th>Weight</th>\n",
              "      <th>Glasses</th>\n",
              "      <th>Sex</th>\n",
              "      <th>Problems in last semester</th>\n",
              "      <th>Coin</th>\n",
              "      <th>Rock paper scissors</th>\n",
              "      <th>Animal</th>\n",
              "      <th>Month of birthday</th>\n",
              "      <th>Your rating in university</th>\n",
              "      <th>Fastfood</th>\n",
              "      <th>Height of 5000 mm</th>\n",
              "      <th>Width of 5000 mm</th>\n",
              "      <th>Putin age</th>\n",
              "      <th>Army</th>\n",
              "      <th>Hostel</th>\n",
              "      <th>Hair length</th>\n",
              "      <th>Floor number</th>\n",
              "      <th>Social network duration min</th>\n",
              "      <th>Chocolate</th>\n",
              "      <th>City population</th>\n",
              "      <th>Strange people</th>\n",
              "      <th>Your insitute</th>\n",
              "      <th>Brother-sister</th>\n",
              "      <th>Plane seat</th>\n",
              "      <th>MIddle and index finger</th>\n",
              "      <th>Middle and ring finger</th>\n",
              "      <th>Middle and little finger</th>\n",
              "    </tr>\n",
              "  </thead>\n",
              "  <tbody>\n",
              "    <tr>\n",
              "      <th>0</th>\n",
              "      <td>20</td>\n",
              "      <td>170</td>\n",
              "      <td>40</td>\n",
              "      <td>2</td>\n",
              "      <td>2002</td>\n",
              "      <td>100</td>\n",
              "      <td>85</td>\n",
              "      <td>86</td>\n",
              "      <td>0</td>\n",
              "      <td>84</td>\n",
              "      <td>0</td>\n",
              "      <td>0</td>\n",
              "      <td>0</td>\n",
              "      <td>0</td>\n",
              "      <td>0</td>\n",
              "      <td>0</td>\n",
              "      <td>0</td>\n",
              "      <td>0</td>\n",
              "      <td>150</td>\n",
              "      <td>4.0</td>\n",
              "      <td>0.0</td>\n",
              "      <td>64.0</td>\n",
              "      <td>да</td>\n",
              "      <td>женский</td>\n",
              "      <td>нет</td>\n",
              "      <td>Орел</td>\n",
              "      <td>Камень</td>\n",
              "      <td>Кошек</td>\n",
              "      <td>6</td>\n",
              "      <td>выше средней по университету</td>\n",
              "      <td>Бургер кинг</td>\n",
              "      <td>100</td>\n",
              "      <td>200</td>\n",
              "      <td>68</td>\n",
              "      <td>не призовут (по разным причинам)</td>\n",
              "      <td>нет</td>\n",
              "      <td>50.0</td>\n",
              "      <td>7</td>\n",
              "      <td>45</td>\n",
              "      <td>Сникерс</td>\n",
              "      <td>800000.0</td>\n",
              "      <td>Экономический</td>\n",
              "      <td>Математический и ИТ</td>\n",
              "      <td>нет ни брата ни сестры</td>\n",
              "      <td>У окна (пардон: у иллюминатора)</td>\n",
              "      <td>20</td>\n",
              "      <td>10.0</td>\n",
              "      <td>40.0</td>\n",
              "    </tr>\n",
              "    <tr>\n",
              "      <th>1</th>\n",
              "      <td>22</td>\n",
              "      <td>191</td>\n",
              "      <td>43</td>\n",
              "      <td>7</td>\n",
              "      <td>2000</td>\n",
              "      <td>307</td>\n",
              "      <td>69</td>\n",
              "      <td>74</td>\n",
              "      <td>64</td>\n",
              "      <td>72</td>\n",
              "      <td>0</td>\n",
              "      <td>0</td>\n",
              "      <td>0</td>\n",
              "      <td>0</td>\n",
              "      <td>0</td>\n",
              "      <td>0</td>\n",
              "      <td>0</td>\n",
              "      <td>0</td>\n",
              "      <td>50</td>\n",
              "      <td>NaN</td>\n",
              "      <td>NaN</td>\n",
              "      <td>73.0</td>\n",
              "      <td>простите. не увидел(а) вопроса ))))</td>\n",
              "      <td>мужской</td>\n",
              "      <td>нет</td>\n",
              "      <td>Орел</td>\n",
              "      <td>Камень</td>\n",
              "      <td>Собак</td>\n",
              "      <td>4</td>\n",
              "      <td>ниже средней по университету</td>\n",
              "      <td>KFC</td>\n",
              "      <td>50</td>\n",
              "      <td>8</td>\n",
              "      <td>53</td>\n",
              "      <td>не призовут (по разным причинам)</td>\n",
              "      <td>нет</td>\n",
              "      <td>7.0</td>\n",
              "      <td>5</td>\n",
              "      <td>180</td>\n",
              "      <td>КитКат</td>\n",
              "      <td>800000.0</td>\n",
              "      <td>Математический и ИТ</td>\n",
              "      <td>Математический и ИТ</td>\n",
              "      <td>есть и брат и сестра</td>\n",
              "      <td>В середине</td>\n",
              "      <td>5</td>\n",
              "      <td>5.0</td>\n",
              "      <td>20.0</td>\n",
              "    </tr>\n",
              "    <tr>\n",
              "      <th>2</th>\n",
              "      <td>21</td>\n",
              "      <td>172</td>\n",
              "      <td>41</td>\n",
              "      <td>4</td>\n",
              "      <td>2000</td>\n",
              "      <td>186</td>\n",
              "      <td>78</td>\n",
              "      <td>62</td>\n",
              "      <td>0</td>\n",
              "      <td>0</td>\n",
              "      <td>0</td>\n",
              "      <td>0</td>\n",
              "      <td>0</td>\n",
              "      <td>0</td>\n",
              "      <td>0</td>\n",
              "      <td>0</td>\n",
              "      <td>70</td>\n",
              "      <td>0</td>\n",
              "      <td>80</td>\n",
              "      <td>2.0</td>\n",
              "      <td>0.0</td>\n",
              "      <td>60.0</td>\n",
              "      <td>да</td>\n",
              "      <td>мужской</td>\n",
              "      <td>нет</td>\n",
              "      <td>Решка</td>\n",
              "      <td>Ножницы</td>\n",
              "      <td>Собак</td>\n",
              "      <td>8</td>\n",
              "      <td>выше средней по университету</td>\n",
              "      <td>Макдональдс (или как он там сейчас называется?)</td>\n",
              "      <td>75</td>\n",
              "      <td>170</td>\n",
              "      <td>69</td>\n",
              "      <td>могут призвать</td>\n",
              "      <td>нет</td>\n",
              "      <td>4.0</td>\n",
              "      <td>7</td>\n",
              "      <td>90</td>\n",
              "      <td>КитКат</td>\n",
              "      <td>770000.0</td>\n",
              "      <td>Педагогический</td>\n",
              "      <td>Другое</td>\n",
              "      <td>есть брат</td>\n",
              "      <td>У окна (пардон: у иллюминатора)</td>\n",
              "      <td>13</td>\n",
              "      <td>10.0</td>\n",
              "      <td>26.0</td>\n",
              "    </tr>\n",
              "    <tr>\n",
              "      <th>3</th>\n",
              "      <td>19</td>\n",
              "      <td>168</td>\n",
              "      <td>38</td>\n",
              "      <td>2</td>\n",
              "      <td>2003</td>\n",
              "      <td>604</td>\n",
              "      <td>72</td>\n",
              "      <td>0</td>\n",
              "      <td>0</td>\n",
              "      <td>0</td>\n",
              "      <td>0</td>\n",
              "      <td>0</td>\n",
              "      <td>98</td>\n",
              "      <td>0</td>\n",
              "      <td>0</td>\n",
              "      <td>0</td>\n",
              "      <td>91</td>\n",
              "      <td>640</td>\n",
              "      <td>40</td>\n",
              "      <td>2.0</td>\n",
              "      <td>0.0</td>\n",
              "      <td>59.0</td>\n",
              "      <td>нет</td>\n",
              "      <td>женский</td>\n",
              "      <td>нет</td>\n",
              "      <td>Решка</td>\n",
              "      <td>Ножницы</td>\n",
              "      <td>Собак</td>\n",
              "      <td>1</td>\n",
              "      <td>выше средней по университету</td>\n",
              "      <td>Макдональдс (или как он там сейчас называется?)</td>\n",
              "      <td>50</td>\n",
              "      <td>100</td>\n",
              "      <td>70</td>\n",
              "      <td>не призовут (по разным причинам)</td>\n",
              "      <td>нет</td>\n",
              "      <td>20.0</td>\n",
              "      <td>5</td>\n",
              "      <td>200</td>\n",
              "      <td>Баунти</td>\n",
              "      <td>900000.0</td>\n",
              "      <td>СоцГум</td>\n",
              "      <td>Юридический</td>\n",
              "      <td>есть сестра</td>\n",
              "      <td>У окна (пардон: у иллюминатора)</td>\n",
              "      <td>12</td>\n",
              "      <td>13.5</td>\n",
              "      <td>35.0</td>\n",
              "    </tr>\n",
              "    <tr>\n",
              "      <th>4</th>\n",
              "      <td>23</td>\n",
              "      <td>159</td>\n",
              "      <td>36</td>\n",
              "      <td>1</td>\n",
              "      <td>1998</td>\n",
              "      <td>144</td>\n",
              "      <td>0</td>\n",
              "      <td>0</td>\n",
              "      <td>0</td>\n",
              "      <td>0</td>\n",
              "      <td>0</td>\n",
              "      <td>0</td>\n",
              "      <td>0</td>\n",
              "      <td>0</td>\n",
              "      <td>0</td>\n",
              "      <td>0</td>\n",
              "      <td>0</td>\n",
              "      <td>2505</td>\n",
              "      <td>40</td>\n",
              "      <td>2.5</td>\n",
              "      <td>1.0</td>\n",
              "      <td>57.0</td>\n",
              "      <td>нет</td>\n",
              "      <td>женский</td>\n",
              "      <td>нет</td>\n",
              "      <td>Орел</td>\n",
              "      <td>Бумага</td>\n",
              "      <td>Кошек</td>\n",
              "      <td>12</td>\n",
              "      <td>выше средней по университету</td>\n",
              "      <td>Бургер кинг</td>\n",
              "      <td>35</td>\n",
              "      <td>120</td>\n",
              "      <td>67</td>\n",
              "      <td>не призовут (по разным причинам)</td>\n",
              "      <td>нет</td>\n",
              "      <td>55.0</td>\n",
              "      <td>3</td>\n",
              "      <td>400</td>\n",
              "      <td>Баунти</td>\n",
              "      <td>860000.0</td>\n",
              "      <td>Педагогический</td>\n",
              "      <td>Педагогический</td>\n",
              "      <td>есть сестра</td>\n",
              "      <td>У окна (пардон: у иллюминатора)</td>\n",
              "      <td>10</td>\n",
              "      <td>11.0</td>\n",
              "      <td>22.0</td>\n",
              "    </tr>\n",
              "  </tbody>\n",
              "</table>\n",
              "</div>\n",
              "      <button class=\"colab-df-convert\" onclick=\"convertToInteractive('df-bec88d73-4f8e-4de9-a240-9ec25ee6bd9b')\"\n",
              "              title=\"Convert this dataframe to an interactive table.\"\n",
              "              style=\"display:none;\">\n",
              "        \n",
              "  <svg xmlns=\"http://www.w3.org/2000/svg\" height=\"24px\"viewBox=\"0 0 24 24\"\n",
              "       width=\"24px\">\n",
              "    <path d=\"M0 0h24v24H0V0z\" fill=\"none\"/>\n",
              "    <path d=\"M18.56 5.44l.94 2.06.94-2.06 2.06-.94-2.06-.94-.94-2.06-.94 2.06-2.06.94zm-11 1L8.5 8.5l.94-2.06 2.06-.94-2.06-.94L8.5 2.5l-.94 2.06-2.06.94zm10 10l.94 2.06.94-2.06 2.06-.94-2.06-.94-.94-2.06-.94 2.06-2.06.94z\"/><path d=\"M17.41 7.96l-1.37-1.37c-.4-.4-.92-.59-1.43-.59-.52 0-1.04.2-1.43.59L10.3 9.45l-7.72 7.72c-.78.78-.78 2.05 0 2.83L4 21.41c.39.39.9.59 1.41.59.51 0 1.02-.2 1.41-.59l7.78-7.78 2.81-2.81c.8-.78.8-2.07 0-2.86zM5.41 20L4 18.59l7.72-7.72 1.47 1.35L5.41 20z\"/>\n",
              "  </svg>\n",
              "      </button>\n",
              "      \n",
              "  <style>\n",
              "    .colab-df-container {\n",
              "      display:flex;\n",
              "      flex-wrap:wrap;\n",
              "      gap: 12px;\n",
              "    }\n",
              "\n",
              "    .colab-df-convert {\n",
              "      background-color: #E8F0FE;\n",
              "      border: none;\n",
              "      border-radius: 50%;\n",
              "      cursor: pointer;\n",
              "      display: none;\n",
              "      fill: #1967D2;\n",
              "      height: 32px;\n",
              "      padding: 0 0 0 0;\n",
              "      width: 32px;\n",
              "    }\n",
              "\n",
              "    .colab-df-convert:hover {\n",
              "      background-color: #E2EBFA;\n",
              "      box-shadow: 0px 1px 2px rgba(60, 64, 67, 0.3), 0px 1px 3px 1px rgba(60, 64, 67, 0.15);\n",
              "      fill: #174EA6;\n",
              "    }\n",
              "\n",
              "    [theme=dark] .colab-df-convert {\n",
              "      background-color: #3B4455;\n",
              "      fill: #D2E3FC;\n",
              "    }\n",
              "\n",
              "    [theme=dark] .colab-df-convert:hover {\n",
              "      background-color: #434B5C;\n",
              "      box-shadow: 0px 1px 3px 1px rgba(0, 0, 0, 0.15);\n",
              "      filter: drop-shadow(0px 1px 2px rgba(0, 0, 0, 0.3));\n",
              "      fill: #FFFFFF;\n",
              "    }\n",
              "  </style>\n",
              "\n",
              "      <script>\n",
              "        const buttonEl =\n",
              "          document.querySelector('#df-bec88d73-4f8e-4de9-a240-9ec25ee6bd9b button.colab-df-convert');\n",
              "        buttonEl.style.display =\n",
              "          google.colab.kernel.accessAllowed ? 'block' : 'none';\n",
              "\n",
              "        async function convertToInteractive(key) {\n",
              "          const element = document.querySelector('#df-bec88d73-4f8e-4de9-a240-9ec25ee6bd9b');\n",
              "          const dataTable =\n",
              "            await google.colab.kernel.invokeFunction('convertToInteractive',\n",
              "                                                     [key], {});\n",
              "          if (!dataTable) return;\n",
              "\n",
              "          const docLinkHtml = 'Like what you see? Visit the ' +\n",
              "            '<a target=\"_blank\" href=https://colab.research.google.com/notebooks/data_table.ipynb>data table notebook</a>'\n",
              "            + ' to learn more about interactive tables.';\n",
              "          element.innerHTML = '';\n",
              "          dataTable['output_type'] = 'display_data';\n",
              "          await google.colab.output.renderOutput(dataTable, element);\n",
              "          const docLink = document.createElement('div');\n",
              "          docLink.innerHTML = docLinkHtml;\n",
              "          element.appendChild(docLink);\n",
              "        }\n",
              "      </script>\n",
              "    </div>\n",
              "  </div>\n",
              "  "
            ]
          },
          "metadata": {},
          "execution_count": 3
        }
      ],
      "source": [
        "df.head()"
      ]
    },
    {
      "cell_type": "code",
      "execution_count": 4,
      "metadata": {
        "colab": {
          "base_uri": "https://localhost:8080/"
        },
        "id": "g4w9NlrBs_0q",
        "outputId": "6d57b1ac-43b1-4902-d8e6-b5026583b41e"
      },
      "outputs": [
        {
          "output_type": "stream",
          "name": "stdout",
          "text": [
            "169\n"
          ]
        }
      ],
      "source": [
        "# Какой рост у человека с индексом 12 в таблице?\n",
        "\n",
        "print(df.loc[12, 'Growth'])"
      ]
    },
    {
      "cell_type": "code",
      "execution_count": 5,
      "metadata": {
        "colab": {
          "base_uri": "https://localhost:8080/"
        },
        "id": "3lp7QzIccYMV",
        "outputId": "36181c1e-a0a9-4742-b7ea-7492f8321d34"
      },
      "outputs": [
        {
          "output_type": "stream",
          "name": "stdout",
          "text": [
            "161\n"
          ]
        }
      ],
      "source": [
        "# Какой рост у восемнадцатого человека с конца таблицы?\n",
        "\n",
        "print(df.iloc[-18, 1])"
      ]
    },
    {
      "cell_type": "code",
      "execution_count": 6,
      "metadata": {
        "colab": {
          "base_uri": "https://localhost:8080/"
        },
        "id": "qKkQcWXcwgEq",
        "outputId": "03b44c71-b8a3-484e-dacd-148e0d5a63cc"
      },
      "outputs": [
        {
          "output_type": "execute_result",
          "data": {
            "text/plain": [
              "64.03"
            ]
          },
          "metadata": {},
          "execution_count": 6
        }
      ],
      "source": [
        "# Чему равно среднее значение веса студентов? Дать ответ с погрешностью 0,01\n",
        "\n",
        "round(df.Weight.mean(), 2)"
      ]
    },
    {
      "cell_type": "code",
      "execution_count": 7,
      "metadata": {
        "id": "fg98tNw1wv65",
        "colab": {
          "base_uri": "https://localhost:8080/"
        },
        "outputId": "80bb7bf0-478d-4507-aa3c-354af835122a"
      },
      "outputs": [
        {
          "output_type": "execute_result",
          "data": {
            "text/plain": [
              "60.0"
            ]
          },
          "metadata": {},
          "execution_count": 7
        }
      ],
      "source": [
        "# Чему равно медианное значение веса студентов?\n",
        "\n",
        "df.Weight.median()"
      ]
    },
    {
      "cell_type": "code",
      "execution_count": 8,
      "metadata": {
        "id": "Ff_qcya2w98f",
        "colab": {
          "base_uri": "https://localhost:8080/"
        },
        "outputId": "f355eb01-09e2-4533-80cc-cb17dd892ad0"
      },
      "outputs": [
        {
          "output_type": "execute_result",
          "data": {
            "text/plain": [
              "3.0"
            ]
          },
          "metadata": {},
          "execution_count": 8
        }
      ],
      "source": [
        "# Чему равен вес самого \"лёгкого\" студента. Спойлер: у этого студента есть чувство юмора\n",
        "\n",
        "df.Weight.min()"
      ]
    },
    {
      "cell_type": "code",
      "execution_count": 9,
      "metadata": {
        "id": "qoiuuwA8xKUa",
        "colab": {
          "base_uri": "https://localhost:8080/"
        },
        "outputId": "884ff1bc-131b-4875-e7e7-29d95e237780"
      },
      "outputs": [
        {
          "output_type": "execute_result",
          "data": {
            "text/plain": [
              "120.0"
            ]
          },
          "metadata": {},
          "execution_count": 9
        }
      ],
      "source": [
        "# Чему равно максимальное значение веса студента в таблице?\n",
        "\n",
        "df.Weight.max()"
      ]
    },
    {
      "cell_type": "code",
      "execution_count": 10,
      "metadata": {
        "colab": {
          "base_uri": "https://localhost:8080/"
        },
        "id": "oGpmA3l8xT3X",
        "outputId": "0dc9b9aa-1c0e-4a7d-9148-e2f1df811283"
      },
      "outputs": [
        {
          "output_type": "execute_result",
          "data": {
            "text/plain": [
              "88"
            ]
          },
          "metadata": {},
          "execution_count": 10
        }
      ],
      "source": [
        "# Сколько людей выбирает \"Ножницы\" при игре в \"Камень-Ножницы-Бумагу\"?\n",
        "\n",
        "len(df[df['Rock paper scissors'] == 'Ножницы'])"
      ]
    },
    {
      "cell_type": "code",
      "execution_count": 11,
      "metadata": {
        "colab": {
          "base_uri": "https://localhost:8080/"
        },
        "id": "XJvbG7CFcYMY",
        "outputId": "b62a3e6a-30ab-45fd-cfd7-66c9d4eb8c67"
      },
      "outputs": [
        {
          "output_type": "execute_result",
          "data": {
            "text/plain": [
              "Ножницы    88\n",
              "Камень     60\n",
              "Бумага     38\n",
              "Name: Rock paper scissors, dtype: int64"
            ]
          },
          "metadata": {},
          "execution_count": 11
        }
      ],
      "source": [
        "# Вы можете узнать, сколько студентов выбирают камень, ножницы или бумагу в игре. \n",
        "# Зная эту информацию, какую фигуру выгоднее всего выбирать в игре?\n",
        "\n",
        "df['Rock paper scissors'].value_counts()"
      ]
    },
    {
      "cell_type": "code",
      "execution_count": 12,
      "metadata": {
        "colab": {
          "base_uri": "https://localhost:8080/"
        },
        "id": "6RoRx84ycYMY",
        "outputId": "5263862f-f3e9-4492-fc60-772a5036ed41"
      },
      "outputs": [
        {
          "output_type": "execute_result",
          "data": {
            "text/plain": [
              "Weight       58.0\n",
              "Sex       женский\n",
              "Name: 9, dtype: object"
            ]
          },
          "metadata": {},
          "execution_count": 12
        }
      ],
      "source": [
        "# Чему равен вес десятого по счету человека в таблице и какой у него пол? \n",
        "# Спойлер: скопировать в новую таблицу столбцы Weight, Sex и в новой таблице посмотреть.\n",
        "\n",
        "df.loc[9, ['Weight', 'Sex']]"
      ]
    },
    {
      "cell_type": "code",
      "execution_count": 13,
      "metadata": {
        "colab": {
          "base_uri": "https://localhost:8080/"
        },
        "id": "ep7PjCKecYMZ",
        "outputId": "a532cfa7-a88c-42c3-8e19-e176f701d17e"
      },
      "outputs": [
        {
          "output_type": "execute_result",
          "data": {
            "text/plain": [
              "180"
            ]
          },
          "metadata": {},
          "execution_count": 13
        }
      ],
      "source": [
        "# Чему равен рост человека с максимальным весом?\n",
        "\n",
        "df.loc[df.Weight.idxmax(), 'Growth']"
      ]
    },
    {
      "cell_type": "code",
      "execution_count": 14,
      "metadata": {
        "colab": {
          "base_uri": "https://localhost:8080/"
        },
        "id": "lUej9PyLcYMZ",
        "outputId": "7210253a-e76c-4114-fc14-7bda25b77684"
      },
      "outputs": [
        {
          "output_type": "execute_result",
          "data": {
            "text/plain": [
              "Army\n",
              "могут призвать                      11.045946\n",
              "не призовут (по разным причинам)    40.155705\n",
              "Name: Hair length, dtype: float64"
            ]
          },
          "metadata": {},
          "execution_count": 14
        }
      ],
      "source": [
        "# Создайте две новых таблицы: army_persons - это все студенты, которых могут призвать в армию из-за отчисления, \n",
        "# и free_persons - это те, кого не призовут.\n",
        "# Подсчитайте среднюю длину волос у студентов таблиц army_persons и free_persons .\n",
        "# Верна ли гипотеза: \"Чтобы избежать призыва, нужно всего-лишь отрастить волосы подлиннее\"? \n",
        "# Данные как раз об этом и говорят! )))))\n",
        "# Подумайте на досуге над этой гипотезой, а в ответ запишите среднюю длину волос студентов из army_persons.\n",
        "\n",
        "df.groupby('Army')['Hair length'].mean()"
      ]
    },
    {
      "cell_type": "code",
      "execution_count": 15,
      "metadata": {
        "colab": {
          "base_uri": "https://localhost:8080/"
        },
        "id": "ih95TApnybhk",
        "outputId": "ed147c33-51a3-402c-d124-6a4a05e2ef63"
      },
      "outputs": [
        {
          "output_type": "execute_result",
          "data": {
            "text/plain": [
              "array(['не призовут (по разным причинам)', 'могут призвать'], dtype=object)"
            ]
          },
          "metadata": {},
          "execution_count": 15
        }
      ],
      "source": [
        "df['Army'].unique()"
      ]
    },
    {
      "cell_type": "code",
      "execution_count": 16,
      "metadata": {
        "colab": {
          "base_uri": "https://localhost:8080/"
        },
        "id": "4z72cxQgys1t",
        "outputId": "e1731ee2-a73f-498e-ba71-716cf4f6ee62"
      },
      "outputs": [
        {
          "output_type": "stream",
          "name": "stdout",
          "text": [
            "мужской    1\n",
            "женский    1\n",
            "Name: Sex, dtype: int64\n",
            "количество мужчин 1\n"
          ]
        }
      ],
      "source": [
        "# Найдите всех студентов, к которых 0 друзей в социальных сетях. Сколько среди них женщин и мужчин?\n",
        "# Запишите в окошечко количество мужчин среди них.\n",
        "\n",
        "no_friends = df[df['Friend number']==0]['Sex'].value_counts()\n",
        "print(no_friends)\n",
        "print(f\"количество мужчин {no_friends['мужской']}\")"
      ]
    },
    {
      "cell_type": "code",
      "execution_count": 17,
      "metadata": {
        "colab": {
          "base_uri": "https://localhost:8080/"
        },
        "id": "goGne_Vwz_tp",
        "outputId": "ccca49ae-e152-4a1b-9bcc-421e85c45f14"
      },
      "outputs": [
        {
          "output_type": "execute_result",
          "data": {
            "text/plain": [
              "12"
            ]
          },
          "metadata": {},
          "execution_count": 17
        }
      ],
      "source": [
        "# Проверим гипотезу: \"Любители собак в основном живут на нижних этажах домов\" (типа иначе выгуливать лень). \n",
        "# Создайте таблицу dor_lovers - это все студенты, которые любят собак. \n",
        "# В ответ запишите долю (процент) из них, которые живут на первом этаже. \n",
        "# Ответ округлить до целого количества процентов.\n",
        "\n",
        "dor_lovers = df[df.Animal == 'Собак']\n",
        "round(len(dor_lovers[dor_lovers['Floor number'] == 1]) / len(dor_lovers) * 100)"
      ]
    },
    {
      "cell_type": "code",
      "execution_count": 18,
      "metadata": {
        "colab": {
          "base_uri": "https://localhost:8080/"
        },
        "id": "XUhZnR3xcYMb",
        "outputId": "deb99e5b-4894-4f6e-f08f-d499f182f770"
      },
      "outputs": [
        {
          "output_type": "execute_result",
          "data": {
            "text/plain": [
              "array(['нет ни брата ни сестры', 'есть и брат и сестра', 'есть брат',\n",
              "       'есть сестра'], dtype=object)"
            ]
          },
          "metadata": {},
          "execution_count": 18
        }
      ],
      "source": [
        "# Получить две таблицы:\n",
        "# single_child - это все студенты у которых нет ни брата ни сестры\n",
        "# not_single_child - это все студенты у которых есть брат или сестра\n",
        "# Найдите медиану признака 'Social network duration min' (сколько времени \n",
        "# студент проводит в соцсетях) отдельно для студентов таблиц.\n",
        "# В ответ напишите, на сколько минут медиана для таблицы single_child больше \n",
        "# медианы для таблицы not_single_child.\n",
        "\n",
        "df['Brother-sister'].unique()"
      ]
    },
    {
      "cell_type": "code",
      "execution_count": 19,
      "metadata": {
        "colab": {
          "base_uri": "https://localhost:8080/"
        },
        "id": "9f-ZMrO2cYMb",
        "outputId": "d699232e-9d0d-4110-d600-efa4e374572e"
      },
      "outputs": [
        {
          "output_type": "stream",
          "name": "stdout",
          "text": [
            "Разница медиан = 60.0\n"
          ]
        }
      ],
      "source": [
        "df['single_child'] = df['Brother-sister'] == 'нет ни брата ни сестры'\n",
        "grp = df.groupby('single_child')['Social network duration min'].median()\n",
        "print(f'Разница медиан = {grp.loc[True] - grp.loc[False]}')"
      ]
    },
    {
      "cell_type": "code",
      "execution_count": 20,
      "metadata": {
        "colab": {
          "base_uri": "https://localhost:8080/"
        },
        "id": "PipyT8kGcYMb",
        "outputId": "e948849c-2585-45e7-ce68-5412d59c2e28"
      },
      "outputs": [
        {
          "output_type": "stream",
          "name": "stdout",
          "text": [
            "Студенты из KFC жирнее на 8.059154929577474 кг.\n"
          ]
        }
      ],
      "source": [
        "# Создайте три таблицы:\n",
        "# KFC_persons - студенты, которые ходят в KFC\n",
        "# Burger_persons - студенты, которые ходят в Burger king\n",
        "# Mac_persons - студенты, которые ходят в Макдональдс (aka \"Вкусно и точка\")\n",
        "# Для каждой категории студентов подсчитайте средний вес студентов.\n",
        "# В ответ напишите: на сколько средний вес студентов из KFC превышает средний\n",
        "# вес студентов из Макдональдса.\n",
        "\n",
        "df['Fastfood'] = df['Fastfood'].map(lambda x: 'Макдональдс' if 'Макдональдс' in x else x)\n",
        "grp = df.groupby('Fastfood')['Weight'].mean()\n",
        "print(f\"Студенты из KFC жирнее на {grp['KFC'] - grp['Макдональдс']} кг.\")"
      ]
    },
    {
      "cell_type": "code",
      "execution_count": 21,
      "metadata": {
        "colab": {
          "base_uri": "https://localhost:8080/"
        },
        "id": "mZXYxtq0cYMb",
        "outputId": "9e29e304-ce5a-4c0d-feb6-35830861bb28"
      },
      "outputs": [
        {
          "output_type": "stream",
          "name": "stdout",
          "text": [
            "2003\n"
          ]
        }
      ],
      "source": [
        "# Из таблицы с анкетами наших студентов создайте \"обрезанную таблицу\" df_cut,\n",
        "# из столбцов \"Год рождения\", \"Рост\", \"Вес\", \"Длина волос\", \"Размер обуви\".\n",
        "# Отсортируйте таблицу по возрастанию признака \"Размер обуви\". В ответ напишите\n",
        "# год рождения студента, попавшего в первую строку отсортированной таблицы.\n",
        "\n",
        "df_cut = df[['Year of birth', 'Growth', 'Weight', 'Hair length', 'Shoe size']]\n",
        "print(df_cut.sort_values('Shoe size').head(1)['Year of birth'].tolist()[0])"
      ]
    },
    {
      "cell_type": "code",
      "execution_count": 22,
      "metadata": {
        "colab": {
          "base_uri": "https://localhost:8080/"
        },
        "id": "GkvCOcqMcYMc",
        "outputId": "220ad8a7-b06f-40ec-f69d-790e6e2f3c54"
      },
      "outputs": [
        {
          "output_type": "stream",
          "name": "stdout",
          "text": [
            "2002\n"
          ]
        }
      ],
      "source": [
        "# Отсортируйте таблицу по убыванию признака \"Размер обуви\". В ответ напишите\n",
        "# год рождения студента, попавшего в третью строку отсортированной таблицы.\n",
        "\n",
        "df_cut = df[['Year of birth', 'Growth', 'Weight', 'Hair length', 'Shoe size']]\n",
        "print(df_cut.sort_values('Shoe size').head(3)['Year of birth'].tolist()[-1])"
      ]
    },
    {
      "cell_type": "code",
      "execution_count": 23,
      "metadata": {
        "colab": {
          "base_uri": "https://localhost:8080/"
        },
        "id": "DNVtSZR9cYMc",
        "outputId": "300e1c13-2a86-4cb8-847e-6a1cb1b24de9"
      },
      "outputs": [
        {
          "output_type": "stream",
          "name": "stdout",
          "text": [
            "1999\n"
          ]
        }
      ],
      "source": [
        "# Отсортируйте таблицу по возрастанию признака \"Размер обуви\", а внутри группы\n",
        "# студентов с одинаковым размером обуви сортировка должна производиться по\n",
        "# возрастанию  признака \"Рост\".\n",
        "# В ответ напишите год рождения студента, попавшего в девятую строку таблицы.\n",
        "\n",
        "df_cut = df[['Year of birth', 'Growth', 'Weight', 'Hair length', 'Shoe size']]\n",
        "print(df_cut.sort_values(['Shoe size', 'Growth']).reset_index().loc[8, 'Year of birth'])"
      ]
    },
    {
      "cell_type": "code",
      "execution_count": 24,
      "metadata": {
        "colab": {
          "base_uri": "https://localhost:8080/",
          "height": 332
        },
        "id": "ZX-WeugCcYMc",
        "outputId": "30ec8a91-0fcc-4683-f994-9aef5363df22"
      },
      "outputs": [
        {
          "output_type": "execute_result",
          "data": {
            "text/plain": [
              "   Year of birth  Growth  Weight  Hair length  Shoe size\n",
              "0           2003     163    56.0         50.0         34\n",
              "1           2003     157    59.0         30.0         35\n",
              "2           2001     158    47.0         50.0         35\n",
              "3           1997     158    60.0         60.0         35\n",
              "4           1999     158    48.0         55.0         35\n",
              "5           2001     158     NaN        100.0         35\n",
              "6           2004     159     NaN         25.0         35\n",
              "7           2002     163    53.0         55.0         35\n",
              "8           1999     155    50.0         70.0         36"
            ],
            "text/html": [
              "\n",
              "  <div id=\"df-eed76038-cc8f-4bfa-bbe6-c4469d15410c\">\n",
              "    <div class=\"colab-df-container\">\n",
              "      <div>\n",
              "<style scoped>\n",
              "    .dataframe tbody tr th:only-of-type {\n",
              "        vertical-align: middle;\n",
              "    }\n",
              "\n",
              "    .dataframe tbody tr th {\n",
              "        vertical-align: top;\n",
              "    }\n",
              "\n",
              "    .dataframe thead th {\n",
              "        text-align: right;\n",
              "    }\n",
              "</style>\n",
              "<table border=\"1\" class=\"dataframe\">\n",
              "  <thead>\n",
              "    <tr style=\"text-align: right;\">\n",
              "      <th></th>\n",
              "      <th>Year of birth</th>\n",
              "      <th>Growth</th>\n",
              "      <th>Weight</th>\n",
              "      <th>Hair length</th>\n",
              "      <th>Shoe size</th>\n",
              "    </tr>\n",
              "  </thead>\n",
              "  <tbody>\n",
              "    <tr>\n",
              "      <th>0</th>\n",
              "      <td>2003</td>\n",
              "      <td>163</td>\n",
              "      <td>56.0</td>\n",
              "      <td>50.0</td>\n",
              "      <td>34</td>\n",
              "    </tr>\n",
              "    <tr>\n",
              "      <th>1</th>\n",
              "      <td>2003</td>\n",
              "      <td>157</td>\n",
              "      <td>59.0</td>\n",
              "      <td>30.0</td>\n",
              "      <td>35</td>\n",
              "    </tr>\n",
              "    <tr>\n",
              "      <th>2</th>\n",
              "      <td>2001</td>\n",
              "      <td>158</td>\n",
              "      <td>47.0</td>\n",
              "      <td>50.0</td>\n",
              "      <td>35</td>\n",
              "    </tr>\n",
              "    <tr>\n",
              "      <th>3</th>\n",
              "      <td>1997</td>\n",
              "      <td>158</td>\n",
              "      <td>60.0</td>\n",
              "      <td>60.0</td>\n",
              "      <td>35</td>\n",
              "    </tr>\n",
              "    <tr>\n",
              "      <th>4</th>\n",
              "      <td>1999</td>\n",
              "      <td>158</td>\n",
              "      <td>48.0</td>\n",
              "      <td>55.0</td>\n",
              "      <td>35</td>\n",
              "    </tr>\n",
              "    <tr>\n",
              "      <th>5</th>\n",
              "      <td>2001</td>\n",
              "      <td>158</td>\n",
              "      <td>NaN</td>\n",
              "      <td>100.0</td>\n",
              "      <td>35</td>\n",
              "    </tr>\n",
              "    <tr>\n",
              "      <th>6</th>\n",
              "      <td>2004</td>\n",
              "      <td>159</td>\n",
              "      <td>NaN</td>\n",
              "      <td>25.0</td>\n",
              "      <td>35</td>\n",
              "    </tr>\n",
              "    <tr>\n",
              "      <th>7</th>\n",
              "      <td>2002</td>\n",
              "      <td>163</td>\n",
              "      <td>53.0</td>\n",
              "      <td>55.0</td>\n",
              "      <td>35</td>\n",
              "    </tr>\n",
              "    <tr>\n",
              "      <th>8</th>\n",
              "      <td>1999</td>\n",
              "      <td>155</td>\n",
              "      <td>50.0</td>\n",
              "      <td>70.0</td>\n",
              "      <td>36</td>\n",
              "    </tr>\n",
              "  </tbody>\n",
              "</table>\n",
              "</div>\n",
              "      <button class=\"colab-df-convert\" onclick=\"convertToInteractive('df-eed76038-cc8f-4bfa-bbe6-c4469d15410c')\"\n",
              "              title=\"Convert this dataframe to an interactive table.\"\n",
              "              style=\"display:none;\">\n",
              "        \n",
              "  <svg xmlns=\"http://www.w3.org/2000/svg\" height=\"24px\"viewBox=\"0 0 24 24\"\n",
              "       width=\"24px\">\n",
              "    <path d=\"M0 0h24v24H0V0z\" fill=\"none\"/>\n",
              "    <path d=\"M18.56 5.44l.94 2.06.94-2.06 2.06-.94-2.06-.94-.94-2.06-.94 2.06-2.06.94zm-11 1L8.5 8.5l.94-2.06 2.06-.94-2.06-.94L8.5 2.5l-.94 2.06-2.06.94zm10 10l.94 2.06.94-2.06 2.06-.94-2.06-.94-.94-2.06-.94 2.06-2.06.94z\"/><path d=\"M17.41 7.96l-1.37-1.37c-.4-.4-.92-.59-1.43-.59-.52 0-1.04.2-1.43.59L10.3 9.45l-7.72 7.72c-.78.78-.78 2.05 0 2.83L4 21.41c.39.39.9.59 1.41.59.51 0 1.02-.2 1.41-.59l7.78-7.78 2.81-2.81c.8-.78.8-2.07 0-2.86zM5.41 20L4 18.59l7.72-7.72 1.47 1.35L5.41 20z\"/>\n",
              "  </svg>\n",
              "      </button>\n",
              "      \n",
              "  <style>\n",
              "    .colab-df-container {\n",
              "      display:flex;\n",
              "      flex-wrap:wrap;\n",
              "      gap: 12px;\n",
              "    }\n",
              "\n",
              "    .colab-df-convert {\n",
              "      background-color: #E8F0FE;\n",
              "      border: none;\n",
              "      border-radius: 50%;\n",
              "      cursor: pointer;\n",
              "      display: none;\n",
              "      fill: #1967D2;\n",
              "      height: 32px;\n",
              "      padding: 0 0 0 0;\n",
              "      width: 32px;\n",
              "    }\n",
              "\n",
              "    .colab-df-convert:hover {\n",
              "      background-color: #E2EBFA;\n",
              "      box-shadow: 0px 1px 2px rgba(60, 64, 67, 0.3), 0px 1px 3px 1px rgba(60, 64, 67, 0.15);\n",
              "      fill: #174EA6;\n",
              "    }\n",
              "\n",
              "    [theme=dark] .colab-df-convert {\n",
              "      background-color: #3B4455;\n",
              "      fill: #D2E3FC;\n",
              "    }\n",
              "\n",
              "    [theme=dark] .colab-df-convert:hover {\n",
              "      background-color: #434B5C;\n",
              "      box-shadow: 0px 1px 3px 1px rgba(0, 0, 0, 0.15);\n",
              "      filter: drop-shadow(0px 1px 2px rgba(0, 0, 0, 0.3));\n",
              "      fill: #FFFFFF;\n",
              "    }\n",
              "  </style>\n",
              "\n",
              "      <script>\n",
              "        const buttonEl =\n",
              "          document.querySelector('#df-eed76038-cc8f-4bfa-bbe6-c4469d15410c button.colab-df-convert');\n",
              "        buttonEl.style.display =\n",
              "          google.colab.kernel.accessAllowed ? 'block' : 'none';\n",
              "\n",
              "        async function convertToInteractive(key) {\n",
              "          const element = document.querySelector('#df-eed76038-cc8f-4bfa-bbe6-c4469d15410c');\n",
              "          const dataTable =\n",
              "            await google.colab.kernel.invokeFunction('convertToInteractive',\n",
              "                                                     [key], {});\n",
              "          if (!dataTable) return;\n",
              "\n",
              "          const docLinkHtml = 'Like what you see? Visit the ' +\n",
              "            '<a target=\"_blank\" href=https://colab.research.google.com/notebooks/data_table.ipynb>data table notebook</a>'\n",
              "            + ' to learn more about interactive tables.';\n",
              "          element.innerHTML = '';\n",
              "          dataTable['output_type'] = 'display_data';\n",
              "          await google.colab.output.renderOutput(dataTable, element);\n",
              "          const docLink = document.createElement('div');\n",
              "          docLink.innerHTML = docLinkHtml;\n",
              "          element.appendChild(docLink);\n",
              "        }\n",
              "      </script>\n",
              "    </div>\n",
              "  </div>\n",
              "  "
            ]
          },
          "metadata": {},
          "execution_count": 24
        }
      ],
      "source": [
        "df_cut.sort_values(['Shoe size', 'Growth']).reset_index(drop=True).head(9)"
      ]
    },
    {
      "cell_type": "code",
      "execution_count": 25,
      "metadata": {
        "colab": {
          "base_uri": "https://localhost:8080/",
          "height": 206
        },
        "id": "I2FIgR1ocYMd",
        "outputId": "671395b3-3e1d-4b9b-9e80-6555b119831b"
      },
      "outputs": [
        {
          "output_type": "execute_result",
          "data": {
            "text/plain": [
              "   index  Year of birth  Growth  Weight  Hair length  Shoe size\n",
              "0     96           2003     163    56.0         50.0         34\n",
              "1     52           2002     163    53.0         55.0         35\n",
              "2     47           2004     159     NaN         25.0         35\n",
              "3     10           2001     158    47.0         50.0         35\n",
              "4     37           1997     158    60.0         60.0         35"
            ],
            "text/html": [
              "\n",
              "  <div id=\"df-e09ad774-e6d5-4dfb-87f5-00d5569975bc\">\n",
              "    <div class=\"colab-df-container\">\n",
              "      <div>\n",
              "<style scoped>\n",
              "    .dataframe tbody tr th:only-of-type {\n",
              "        vertical-align: middle;\n",
              "    }\n",
              "\n",
              "    .dataframe tbody tr th {\n",
              "        vertical-align: top;\n",
              "    }\n",
              "\n",
              "    .dataframe thead th {\n",
              "        text-align: right;\n",
              "    }\n",
              "</style>\n",
              "<table border=\"1\" class=\"dataframe\">\n",
              "  <thead>\n",
              "    <tr style=\"text-align: right;\">\n",
              "      <th></th>\n",
              "      <th>index</th>\n",
              "      <th>Year of birth</th>\n",
              "      <th>Growth</th>\n",
              "      <th>Weight</th>\n",
              "      <th>Hair length</th>\n",
              "      <th>Shoe size</th>\n",
              "    </tr>\n",
              "  </thead>\n",
              "  <tbody>\n",
              "    <tr>\n",
              "      <th>0</th>\n",
              "      <td>96</td>\n",
              "      <td>2003</td>\n",
              "      <td>163</td>\n",
              "      <td>56.0</td>\n",
              "      <td>50.0</td>\n",
              "      <td>34</td>\n",
              "    </tr>\n",
              "    <tr>\n",
              "      <th>1</th>\n",
              "      <td>52</td>\n",
              "      <td>2002</td>\n",
              "      <td>163</td>\n",
              "      <td>53.0</td>\n",
              "      <td>55.0</td>\n",
              "      <td>35</td>\n",
              "    </tr>\n",
              "    <tr>\n",
              "      <th>2</th>\n",
              "      <td>47</td>\n",
              "      <td>2004</td>\n",
              "      <td>159</td>\n",
              "      <td>NaN</td>\n",
              "      <td>25.0</td>\n",
              "      <td>35</td>\n",
              "    </tr>\n",
              "    <tr>\n",
              "      <th>3</th>\n",
              "      <td>10</td>\n",
              "      <td>2001</td>\n",
              "      <td>158</td>\n",
              "      <td>47.0</td>\n",
              "      <td>50.0</td>\n",
              "      <td>35</td>\n",
              "    </tr>\n",
              "    <tr>\n",
              "      <th>4</th>\n",
              "      <td>37</td>\n",
              "      <td>1997</td>\n",
              "      <td>158</td>\n",
              "      <td>60.0</td>\n",
              "      <td>60.0</td>\n",
              "      <td>35</td>\n",
              "    </tr>\n",
              "  </tbody>\n",
              "</table>\n",
              "</div>\n",
              "      <button class=\"colab-df-convert\" onclick=\"convertToInteractive('df-e09ad774-e6d5-4dfb-87f5-00d5569975bc')\"\n",
              "              title=\"Convert this dataframe to an interactive table.\"\n",
              "              style=\"display:none;\">\n",
              "        \n",
              "  <svg xmlns=\"http://www.w3.org/2000/svg\" height=\"24px\"viewBox=\"0 0 24 24\"\n",
              "       width=\"24px\">\n",
              "    <path d=\"M0 0h24v24H0V0z\" fill=\"none\"/>\n",
              "    <path d=\"M18.56 5.44l.94 2.06.94-2.06 2.06-.94-2.06-.94-.94-2.06-.94 2.06-2.06.94zm-11 1L8.5 8.5l.94-2.06 2.06-.94-2.06-.94L8.5 2.5l-.94 2.06-2.06.94zm10 10l.94 2.06.94-2.06 2.06-.94-2.06-.94-.94-2.06-.94 2.06-2.06.94z\"/><path d=\"M17.41 7.96l-1.37-1.37c-.4-.4-.92-.59-1.43-.59-.52 0-1.04.2-1.43.59L10.3 9.45l-7.72 7.72c-.78.78-.78 2.05 0 2.83L4 21.41c.39.39.9.59 1.41.59.51 0 1.02-.2 1.41-.59l7.78-7.78 2.81-2.81c.8-.78.8-2.07 0-2.86zM5.41 20L4 18.59l7.72-7.72 1.47 1.35L5.41 20z\"/>\n",
              "  </svg>\n",
              "      </button>\n",
              "      \n",
              "  <style>\n",
              "    .colab-df-container {\n",
              "      display:flex;\n",
              "      flex-wrap:wrap;\n",
              "      gap: 12px;\n",
              "    }\n",
              "\n",
              "    .colab-df-convert {\n",
              "      background-color: #E8F0FE;\n",
              "      border: none;\n",
              "      border-radius: 50%;\n",
              "      cursor: pointer;\n",
              "      display: none;\n",
              "      fill: #1967D2;\n",
              "      height: 32px;\n",
              "      padding: 0 0 0 0;\n",
              "      width: 32px;\n",
              "    }\n",
              "\n",
              "    .colab-df-convert:hover {\n",
              "      background-color: #E2EBFA;\n",
              "      box-shadow: 0px 1px 2px rgba(60, 64, 67, 0.3), 0px 1px 3px 1px rgba(60, 64, 67, 0.15);\n",
              "      fill: #174EA6;\n",
              "    }\n",
              "\n",
              "    [theme=dark] .colab-df-convert {\n",
              "      background-color: #3B4455;\n",
              "      fill: #D2E3FC;\n",
              "    }\n",
              "\n",
              "    [theme=dark] .colab-df-convert:hover {\n",
              "      background-color: #434B5C;\n",
              "      box-shadow: 0px 1px 3px 1px rgba(0, 0, 0, 0.15);\n",
              "      filter: drop-shadow(0px 1px 2px rgba(0, 0, 0, 0.3));\n",
              "      fill: #FFFFFF;\n",
              "    }\n",
              "  </style>\n",
              "\n",
              "      <script>\n",
              "        const buttonEl =\n",
              "          document.querySelector('#df-e09ad774-e6d5-4dfb-87f5-00d5569975bc button.colab-df-convert');\n",
              "        buttonEl.style.display =\n",
              "          google.colab.kernel.accessAllowed ? 'block' : 'none';\n",
              "\n",
              "        async function convertToInteractive(key) {\n",
              "          const element = document.querySelector('#df-e09ad774-e6d5-4dfb-87f5-00d5569975bc');\n",
              "          const dataTable =\n",
              "            await google.colab.kernel.invokeFunction('convertToInteractive',\n",
              "                                                     [key], {});\n",
              "          if (!dataTable) return;\n",
              "\n",
              "          const docLinkHtml = 'Like what you see? Visit the ' +\n",
              "            '<a target=\"_blank\" href=https://colab.research.google.com/notebooks/data_table.ipynb>data table notebook</a>'\n",
              "            + ' to learn more about interactive tables.';\n",
              "          element.innerHTML = '';\n",
              "          dataTable['output_type'] = 'display_data';\n",
              "          await google.colab.output.renderOutput(dataTable, element);\n",
              "          const docLink = document.createElement('div');\n",
              "          docLink.innerHTML = docLinkHtml;\n",
              "          element.appendChild(docLink);\n",
              "        }\n",
              "      </script>\n",
              "    </div>\n",
              "  </div>\n",
              "  "
            ]
          },
          "metadata": {},
          "execution_count": 25
        }
      ],
      "source": [
        "# Отсортируйте таблицу по возрастанию признака \"Размер обуви\", а внутри группы\n",
        "# студентов с одинаковым размером обуви сортировка должна производиться по убыванию признака \"Рост\".\n",
        "# В ответ напишите год рождения студента, попавшего во вторую строку отсортированной таблицы.\n",
        "\n",
        "df_cut.sort_values(['Shoe size', 'Growth'], ascending=[True, False]).reset_index().head()"
      ]
    },
    {
      "cell_type": "code",
      "execution_count": 26,
      "metadata": {
        "colab": {
          "base_uri": "https://localhost:8080/"
        },
        "id": "G13mK9JIcYMd",
        "outputId": "02674695-3eeb-4e9e-a4ce-b8f0f89280ed"
      },
      "outputs": [
        {
          "output_type": "stream",
          "name": "stdout",
          "text": [
            "2002\n"
          ]
        }
      ],
      "source": [
        "df_cut = df[['Year of birth', 'Growth', 'Weight', 'Hair length', 'Shoe size']]\n",
        "print(df_cut.sort_values(['Shoe size', 'Growth'], ascending=[True, False]).reset_index().loc[1, 'Year of birth'])"
      ]
    },
    {
      "cell_type": "code",
      "execution_count": 27,
      "metadata": {
        "colab": {
          "base_uri": "https://localhost:8080/"
        },
        "id": "Js99KDd9cYMd",
        "outputId": "84796fcd-14ba-42c3-e74e-ab0e2f7ad418"
      },
      "outputs": [
        {
          "output_type": "stream",
          "name": "stdout",
          "text": [
            "2003\n"
          ]
        }
      ],
      "source": [
        "# Отсортируйте таблицу по убыванию признака \"Размер обуви\", а внутри группы студентов \n",
        "# с одинаковым размером обуви сортировка должна производиться по возрастанию  признака \"Рост\".\n",
        "# В ответ напишите год рождения студента, попавшего во вторую строку отсортированной таблицы.\n",
        "\n",
        "df_cut = df[['Year of birth', 'Growth', 'Weight', 'Hair length', 'Shoe size']]\n",
        "print(df_cut.sort_values(['Shoe size', 'Growth'], ascending=[False, True]).reset_index().loc[1, 'Year of birth'])"
      ]
    },
    {
      "cell_type": "code",
      "execution_count": 28,
      "metadata": {
        "colab": {
          "base_uri": "https://localhost:8080/"
        },
        "id": "QkKQ3lMUcYMd",
        "outputId": "00bd3161-1187-41ac-c2dd-59672f229165"
      },
      "outputs": [
        {
          "output_type": "stream",
          "name": "stdout",
          "text": [
            "МАХ значение 'Полный рост' = 319.0\n"
          ]
        }
      ],
      "source": [
        "# Из имеющейся таблицы с анкетами наших студентов создайте \"обрезанную таблицу\"\n",
        "# df_cut, состоящую из столбцов \"Год рождения\", \"Рост\", \"Вес\", \"Длина волос\",\n",
        "# \"Размер обуви\".\n",
        "# Допустим, что все студенты решили сделать себе прически типа \"Ирокез\".\n",
        "# Создайте новый столбец с названием 'Full length' (\"Полный рост\"), значения в\n",
        "# котором равны сумме роста и длины волос.\n",
        "# Чему равно максимальное значение признака \"Полный рост\" для наших студентов?\n",
        "\n",
        "df_cut = df[['Year of birth', 'Growth', 'Weight', 'Hair length', 'Shoe size']]\n",
        "df_cut['Full length'] = df_cut['Growth'] + df_cut['Hair length']\n",
        "print(f\"МАХ значение 'Полный рост' = {df_cut['Full length'].max()}\")"
      ]
    },
    {
      "cell_type": "code",
      "execution_count": 29,
      "metadata": {
        "colab": {
          "base_uri": "https://localhost:8080/",
          "height": 238
        },
        "id": "qRm4e8AxcYMe",
        "outputId": "7d396170-19a0-4687-be62-515640fee025"
      },
      "outputs": [
        {
          "output_type": "execute_result",
          "data": {
            "text/plain": [
              "               Year of birth    Growth    Weight  Hair length  Shoe size  \\\n",
              "Year of birth       1.000000 -0.113357  0.006042     0.095402  -0.108360   \n",
              "Growth             -0.113357  1.000000  0.544528    -0.554408   0.863252   \n",
              "Weight              0.006042  0.544528  1.000000    -0.319416   0.591149   \n",
              "Hair length         0.095402 -0.554408 -0.319416     1.000000  -0.567568   \n",
              "Shoe size          -0.108360  0.863252  0.591149    -0.567568   1.000000   \n",
              "Full length         0.064713 -0.235492 -0.145316     0.939398  -0.307190   \n",
              "\n",
              "               Full length  \n",
              "Year of birth     0.064713  \n",
              "Growth           -0.235492  \n",
              "Weight           -0.145316  \n",
              "Hair length       0.939398  \n",
              "Shoe size        -0.307190  \n",
              "Full length       1.000000  "
            ],
            "text/html": [
              "\n",
              "  <div id=\"df-108df9bd-37e4-4cb8-bfef-4edd964a32b3\">\n",
              "    <div class=\"colab-df-container\">\n",
              "      <div>\n",
              "<style scoped>\n",
              "    .dataframe tbody tr th:only-of-type {\n",
              "        vertical-align: middle;\n",
              "    }\n",
              "\n",
              "    .dataframe tbody tr th {\n",
              "        vertical-align: top;\n",
              "    }\n",
              "\n",
              "    .dataframe thead th {\n",
              "        text-align: right;\n",
              "    }\n",
              "</style>\n",
              "<table border=\"1\" class=\"dataframe\">\n",
              "  <thead>\n",
              "    <tr style=\"text-align: right;\">\n",
              "      <th></th>\n",
              "      <th>Year of birth</th>\n",
              "      <th>Growth</th>\n",
              "      <th>Weight</th>\n",
              "      <th>Hair length</th>\n",
              "      <th>Shoe size</th>\n",
              "      <th>Full length</th>\n",
              "    </tr>\n",
              "  </thead>\n",
              "  <tbody>\n",
              "    <tr>\n",
              "      <th>Year of birth</th>\n",
              "      <td>1.000000</td>\n",
              "      <td>-0.113357</td>\n",
              "      <td>0.006042</td>\n",
              "      <td>0.095402</td>\n",
              "      <td>-0.108360</td>\n",
              "      <td>0.064713</td>\n",
              "    </tr>\n",
              "    <tr>\n",
              "      <th>Growth</th>\n",
              "      <td>-0.113357</td>\n",
              "      <td>1.000000</td>\n",
              "      <td>0.544528</td>\n",
              "      <td>-0.554408</td>\n",
              "      <td>0.863252</td>\n",
              "      <td>-0.235492</td>\n",
              "    </tr>\n",
              "    <tr>\n",
              "      <th>Weight</th>\n",
              "      <td>0.006042</td>\n",
              "      <td>0.544528</td>\n",
              "      <td>1.000000</td>\n",
              "      <td>-0.319416</td>\n",
              "      <td>0.591149</td>\n",
              "      <td>-0.145316</td>\n",
              "    </tr>\n",
              "    <tr>\n",
              "      <th>Hair length</th>\n",
              "      <td>0.095402</td>\n",
              "      <td>-0.554408</td>\n",
              "      <td>-0.319416</td>\n",
              "      <td>1.000000</td>\n",
              "      <td>-0.567568</td>\n",
              "      <td>0.939398</td>\n",
              "    </tr>\n",
              "    <tr>\n",
              "      <th>Shoe size</th>\n",
              "      <td>-0.108360</td>\n",
              "      <td>0.863252</td>\n",
              "      <td>0.591149</td>\n",
              "      <td>-0.567568</td>\n",
              "      <td>1.000000</td>\n",
              "      <td>-0.307190</td>\n",
              "    </tr>\n",
              "    <tr>\n",
              "      <th>Full length</th>\n",
              "      <td>0.064713</td>\n",
              "      <td>-0.235492</td>\n",
              "      <td>-0.145316</td>\n",
              "      <td>0.939398</td>\n",
              "      <td>-0.307190</td>\n",
              "      <td>1.000000</td>\n",
              "    </tr>\n",
              "  </tbody>\n",
              "</table>\n",
              "</div>\n",
              "      <button class=\"colab-df-convert\" onclick=\"convertToInteractive('df-108df9bd-37e4-4cb8-bfef-4edd964a32b3')\"\n",
              "              title=\"Convert this dataframe to an interactive table.\"\n",
              "              style=\"display:none;\">\n",
              "        \n",
              "  <svg xmlns=\"http://www.w3.org/2000/svg\" height=\"24px\"viewBox=\"0 0 24 24\"\n",
              "       width=\"24px\">\n",
              "    <path d=\"M0 0h24v24H0V0z\" fill=\"none\"/>\n",
              "    <path d=\"M18.56 5.44l.94 2.06.94-2.06 2.06-.94-2.06-.94-.94-2.06-.94 2.06-2.06.94zm-11 1L8.5 8.5l.94-2.06 2.06-.94-2.06-.94L8.5 2.5l-.94 2.06-2.06.94zm10 10l.94 2.06.94-2.06 2.06-.94-2.06-.94-.94-2.06-.94 2.06-2.06.94z\"/><path d=\"M17.41 7.96l-1.37-1.37c-.4-.4-.92-.59-1.43-.59-.52 0-1.04.2-1.43.59L10.3 9.45l-7.72 7.72c-.78.78-.78 2.05 0 2.83L4 21.41c.39.39.9.59 1.41.59.51 0 1.02-.2 1.41-.59l7.78-7.78 2.81-2.81c.8-.78.8-2.07 0-2.86zM5.41 20L4 18.59l7.72-7.72 1.47 1.35L5.41 20z\"/>\n",
              "  </svg>\n",
              "      </button>\n",
              "      \n",
              "  <style>\n",
              "    .colab-df-container {\n",
              "      display:flex;\n",
              "      flex-wrap:wrap;\n",
              "      gap: 12px;\n",
              "    }\n",
              "\n",
              "    .colab-df-convert {\n",
              "      background-color: #E8F0FE;\n",
              "      border: none;\n",
              "      border-radius: 50%;\n",
              "      cursor: pointer;\n",
              "      display: none;\n",
              "      fill: #1967D2;\n",
              "      height: 32px;\n",
              "      padding: 0 0 0 0;\n",
              "      width: 32px;\n",
              "    }\n",
              "\n",
              "    .colab-df-convert:hover {\n",
              "      background-color: #E2EBFA;\n",
              "      box-shadow: 0px 1px 2px rgba(60, 64, 67, 0.3), 0px 1px 3px 1px rgba(60, 64, 67, 0.15);\n",
              "      fill: #174EA6;\n",
              "    }\n",
              "\n",
              "    [theme=dark] .colab-df-convert {\n",
              "      background-color: #3B4455;\n",
              "      fill: #D2E3FC;\n",
              "    }\n",
              "\n",
              "    [theme=dark] .colab-df-convert:hover {\n",
              "      background-color: #434B5C;\n",
              "      box-shadow: 0px 1px 3px 1px rgba(0, 0, 0, 0.15);\n",
              "      filter: drop-shadow(0px 1px 2px rgba(0, 0, 0, 0.3));\n",
              "      fill: #FFFFFF;\n",
              "    }\n",
              "  </style>\n",
              "\n",
              "      <script>\n",
              "        const buttonEl =\n",
              "          document.querySelector('#df-108df9bd-37e4-4cb8-bfef-4edd964a32b3 button.colab-df-convert');\n",
              "        buttonEl.style.display =\n",
              "          google.colab.kernel.accessAllowed ? 'block' : 'none';\n",
              "\n",
              "        async function convertToInteractive(key) {\n",
              "          const element = document.querySelector('#df-108df9bd-37e4-4cb8-bfef-4edd964a32b3');\n",
              "          const dataTable =\n",
              "            await google.colab.kernel.invokeFunction('convertToInteractive',\n",
              "                                                     [key], {});\n",
              "          if (!dataTable) return;\n",
              "\n",
              "          const docLinkHtml = 'Like what you see? Visit the ' +\n",
              "            '<a target=\"_blank\" href=https://colab.research.google.com/notebooks/data_table.ipynb>data table notebook</a>'\n",
              "            + ' to learn more about interactive tables.';\n",
              "          element.innerHTML = '';\n",
              "          dataTable['output_type'] = 'display_data';\n",
              "          await google.colab.output.renderOutput(dataTable, element);\n",
              "          const docLink = document.createElement('div');\n",
              "          docLink.innerHTML = docLinkHtml;\n",
              "          element.appendChild(docLink);\n",
              "        }\n",
              "      </script>\n",
              "    </div>\n",
              "  </div>\n",
              "  "
            ]
          },
          "metadata": {},
          "execution_count": 29
        }
      ],
      "source": [
        "# Выведите на экран таблицу со значениями коэффициента корреляции (КК).\n",
        "\n",
        "df_cut.corr()"
      ]
    },
    {
      "cell_type": "code",
      "execution_count": 30,
      "metadata": {
        "colab": {
          "base_uri": "https://localhost:8080/"
        },
        "id": "d1pXn9HjcYMe",
        "outputId": "104165a8-98e8-46f0-8176-cbebc5fa4d87"
      },
      "outputs": [
        {
          "output_type": "execute_result",
          "data": {
            "text/plain": [
              "0.86"
            ]
          },
          "metadata": {},
          "execution_count": 30
        }
      ],
      "source": [
        "# Чему равен КК для признаков \"Рост\" и \"Размер обуви\"?\n",
        "# Ответ округлить до двух знаков после запятой.\n",
        "\n",
        "df_cut_corr = df[['Year of birth', 'Growth', 'Weight', 'Hair length', 'Shoe size']].corr()\n",
        "df_cut_corr.loc['Growth', 'Shoe size'].round(2)"
      ]
    },
    {
      "cell_type": "code",
      "execution_count": 31,
      "metadata": {
        "colab": {
          "base_uri": "https://localhost:8080/",
          "height": 175
        },
        "id": "6RPdxfIHcYMe",
        "outputId": "f3bc0f22-9f0d-492d-cc36-f33ea41dd0d3"
      },
      "outputs": [
        {
          "output_type": "execute_result",
          "data": {
            "text/plain": [
              "                                     Russian rating  Maths rating\n",
              "Glasses                                                          \n",
              "да                                        83.388235     56.741176\n",
              "нет                                       80.471910     59.955056\n",
              "простите. не увидел(а) вопроса ))))       77.900000     54.700000"
            ],
            "text/html": [
              "\n",
              "  <div id=\"df-e937a63d-700b-4abd-b8bb-f8dcf16fc05d\">\n",
              "    <div class=\"colab-df-container\">\n",
              "      <div>\n",
              "<style scoped>\n",
              "    .dataframe tbody tr th:only-of-type {\n",
              "        vertical-align: middle;\n",
              "    }\n",
              "\n",
              "    .dataframe tbody tr th {\n",
              "        vertical-align: top;\n",
              "    }\n",
              "\n",
              "    .dataframe thead th {\n",
              "        text-align: right;\n",
              "    }\n",
              "</style>\n",
              "<table border=\"1\" class=\"dataframe\">\n",
              "  <thead>\n",
              "    <tr style=\"text-align: right;\">\n",
              "      <th></th>\n",
              "      <th>Russian rating</th>\n",
              "      <th>Maths rating</th>\n",
              "    </tr>\n",
              "    <tr>\n",
              "      <th>Glasses</th>\n",
              "      <th></th>\n",
              "      <th></th>\n",
              "    </tr>\n",
              "  </thead>\n",
              "  <tbody>\n",
              "    <tr>\n",
              "      <th>да</th>\n",
              "      <td>83.388235</td>\n",
              "      <td>56.741176</td>\n",
              "    </tr>\n",
              "    <tr>\n",
              "      <th>нет</th>\n",
              "      <td>80.471910</td>\n",
              "      <td>59.955056</td>\n",
              "    </tr>\n",
              "    <tr>\n",
              "      <th>простите. не увидел(а) вопроса ))))</th>\n",
              "      <td>77.900000</td>\n",
              "      <td>54.700000</td>\n",
              "    </tr>\n",
              "  </tbody>\n",
              "</table>\n",
              "</div>\n",
              "      <button class=\"colab-df-convert\" onclick=\"convertToInteractive('df-e937a63d-700b-4abd-b8bb-f8dcf16fc05d')\"\n",
              "              title=\"Convert this dataframe to an interactive table.\"\n",
              "              style=\"display:none;\">\n",
              "        \n",
              "  <svg xmlns=\"http://www.w3.org/2000/svg\" height=\"24px\"viewBox=\"0 0 24 24\"\n",
              "       width=\"24px\">\n",
              "    <path d=\"M0 0h24v24H0V0z\" fill=\"none\"/>\n",
              "    <path d=\"M18.56 5.44l.94 2.06.94-2.06 2.06-.94-2.06-.94-.94-2.06-.94 2.06-2.06.94zm-11 1L8.5 8.5l.94-2.06 2.06-.94-2.06-.94L8.5 2.5l-.94 2.06-2.06.94zm10 10l.94 2.06.94-2.06 2.06-.94-2.06-.94-.94-2.06-.94 2.06-2.06.94z\"/><path d=\"M17.41 7.96l-1.37-1.37c-.4-.4-.92-.59-1.43-.59-.52 0-1.04.2-1.43.59L10.3 9.45l-7.72 7.72c-.78.78-.78 2.05 0 2.83L4 21.41c.39.39.9.59 1.41.59.51 0 1.02-.2 1.41-.59l7.78-7.78 2.81-2.81c.8-.78.8-2.07 0-2.86zM5.41 20L4 18.59l7.72-7.72 1.47 1.35L5.41 20z\"/>\n",
              "  </svg>\n",
              "      </button>\n",
              "      \n",
              "  <style>\n",
              "    .colab-df-container {\n",
              "      display:flex;\n",
              "      flex-wrap:wrap;\n",
              "      gap: 12px;\n",
              "    }\n",
              "\n",
              "    .colab-df-convert {\n",
              "      background-color: #E8F0FE;\n",
              "      border: none;\n",
              "      border-radius: 50%;\n",
              "      cursor: pointer;\n",
              "      display: none;\n",
              "      fill: #1967D2;\n",
              "      height: 32px;\n",
              "      padding: 0 0 0 0;\n",
              "      width: 32px;\n",
              "    }\n",
              "\n",
              "    .colab-df-convert:hover {\n",
              "      background-color: #E2EBFA;\n",
              "      box-shadow: 0px 1px 2px rgba(60, 64, 67, 0.3), 0px 1px 3px 1px rgba(60, 64, 67, 0.15);\n",
              "      fill: #174EA6;\n",
              "    }\n",
              "\n",
              "    [theme=dark] .colab-df-convert {\n",
              "      background-color: #3B4455;\n",
              "      fill: #D2E3FC;\n",
              "    }\n",
              "\n",
              "    [theme=dark] .colab-df-convert:hover {\n",
              "      background-color: #434B5C;\n",
              "      box-shadow: 0px 1px 3px 1px rgba(0, 0, 0, 0.15);\n",
              "      filter: drop-shadow(0px 1px 2px rgba(0, 0, 0, 0.3));\n",
              "      fill: #FFFFFF;\n",
              "    }\n",
              "  </style>\n",
              "\n",
              "      <script>\n",
              "        const buttonEl =\n",
              "          document.querySelector('#df-e937a63d-700b-4abd-b8bb-f8dcf16fc05d button.colab-df-convert');\n",
              "        buttonEl.style.display =\n",
              "          google.colab.kernel.accessAllowed ? 'block' : 'none';\n",
              "\n",
              "        async function convertToInteractive(key) {\n",
              "          const element = document.querySelector('#df-e937a63d-700b-4abd-b8bb-f8dcf16fc05d');\n",
              "          const dataTable =\n",
              "            await google.colab.kernel.invokeFunction('convertToInteractive',\n",
              "                                                     [key], {});\n",
              "          if (!dataTable) return;\n",
              "\n",
              "          const docLinkHtml = 'Like what you see? Visit the ' +\n",
              "            '<a target=\"_blank\" href=https://colab.research.google.com/notebooks/data_table.ipynb>data table notebook</a>'\n",
              "            + ' to learn more about interactive tables.';\n",
              "          element.innerHTML = '';\n",
              "          dataTable['output_type'] = 'display_data';\n",
              "          await google.colab.output.renderOutput(dataTable, element);\n",
              "          const docLink = document.createElement('div');\n",
              "          docLink.innerHTML = docLinkHtml;\n",
              "          element.appendChild(docLink);\n",
              "        }\n",
              "      </script>\n",
              "    </div>\n",
              "  </div>\n",
              "  "
            ]
          },
          "metadata": {},
          "execution_count": 31
        }
      ],
      "source": [
        "# С помощью метода groupby сделайте табличку (числа в ней - это средние баллы за ЕГЭ)\n",
        "\n",
        "df.groupby('Glasses')['Russian rating','Maths rating'].mean()"
      ]
    },
    {
      "cell_type": "code",
      "execution_count": 32,
      "metadata": {
        "colab": {
          "base_uri": "https://localhost:8080/",
          "height": 175
        },
        "id": "vxfXgCDXcYMe",
        "outputId": "5c5b4ee9-b4eb-4bfe-9405-04aebe0d9119"
      },
      "outputs": [
        {
          "output_type": "execute_result",
          "data": {
            "text/plain": [
              "                     Russian rating  Maths rating\n",
              "Rock paper scissors                              \n",
              "Бумага                    76.473684     52.894737\n",
              "Камень                    81.450000     62.166667\n",
              "Ножницы                   83.988636     57.738636"
            ],
            "text/html": [
              "\n",
              "  <div id=\"df-802aa482-a5f6-4fab-81d1-3c23c71c1545\">\n",
              "    <div class=\"colab-df-container\">\n",
              "      <div>\n",
              "<style scoped>\n",
              "    .dataframe tbody tr th:only-of-type {\n",
              "        vertical-align: middle;\n",
              "    }\n",
              "\n",
              "    .dataframe tbody tr th {\n",
              "        vertical-align: top;\n",
              "    }\n",
              "\n",
              "    .dataframe thead th {\n",
              "        text-align: right;\n",
              "    }\n",
              "</style>\n",
              "<table border=\"1\" class=\"dataframe\">\n",
              "  <thead>\n",
              "    <tr style=\"text-align: right;\">\n",
              "      <th></th>\n",
              "      <th>Russian rating</th>\n",
              "      <th>Maths rating</th>\n",
              "    </tr>\n",
              "    <tr>\n",
              "      <th>Rock paper scissors</th>\n",
              "      <th></th>\n",
              "      <th></th>\n",
              "    </tr>\n",
              "  </thead>\n",
              "  <tbody>\n",
              "    <tr>\n",
              "      <th>Бумага</th>\n",
              "      <td>76.473684</td>\n",
              "      <td>52.894737</td>\n",
              "    </tr>\n",
              "    <tr>\n",
              "      <th>Камень</th>\n",
              "      <td>81.450000</td>\n",
              "      <td>62.166667</td>\n",
              "    </tr>\n",
              "    <tr>\n",
              "      <th>Ножницы</th>\n",
              "      <td>83.988636</td>\n",
              "      <td>57.738636</td>\n",
              "    </tr>\n",
              "  </tbody>\n",
              "</table>\n",
              "</div>\n",
              "      <button class=\"colab-df-convert\" onclick=\"convertToInteractive('df-802aa482-a5f6-4fab-81d1-3c23c71c1545')\"\n",
              "              title=\"Convert this dataframe to an interactive table.\"\n",
              "              style=\"display:none;\">\n",
              "        \n",
              "  <svg xmlns=\"http://www.w3.org/2000/svg\" height=\"24px\"viewBox=\"0 0 24 24\"\n",
              "       width=\"24px\">\n",
              "    <path d=\"M0 0h24v24H0V0z\" fill=\"none\"/>\n",
              "    <path d=\"M18.56 5.44l.94 2.06.94-2.06 2.06-.94-2.06-.94-.94-2.06-.94 2.06-2.06.94zm-11 1L8.5 8.5l.94-2.06 2.06-.94-2.06-.94L8.5 2.5l-.94 2.06-2.06.94zm10 10l.94 2.06.94-2.06 2.06-.94-2.06-.94-.94-2.06-.94 2.06-2.06.94z\"/><path d=\"M17.41 7.96l-1.37-1.37c-.4-.4-.92-.59-1.43-.59-.52 0-1.04.2-1.43.59L10.3 9.45l-7.72 7.72c-.78.78-.78 2.05 0 2.83L4 21.41c.39.39.9.59 1.41.59.51 0 1.02-.2 1.41-.59l7.78-7.78 2.81-2.81c.8-.78.8-2.07 0-2.86zM5.41 20L4 18.59l7.72-7.72 1.47 1.35L5.41 20z\"/>\n",
              "  </svg>\n",
              "      </button>\n",
              "      \n",
              "  <style>\n",
              "    .colab-df-container {\n",
              "      display:flex;\n",
              "      flex-wrap:wrap;\n",
              "      gap: 12px;\n",
              "    }\n",
              "\n",
              "    .colab-df-convert {\n",
              "      background-color: #E8F0FE;\n",
              "      border: none;\n",
              "      border-radius: 50%;\n",
              "      cursor: pointer;\n",
              "      display: none;\n",
              "      fill: #1967D2;\n",
              "      height: 32px;\n",
              "      padding: 0 0 0 0;\n",
              "      width: 32px;\n",
              "    }\n",
              "\n",
              "    .colab-df-convert:hover {\n",
              "      background-color: #E2EBFA;\n",
              "      box-shadow: 0px 1px 2px rgba(60, 64, 67, 0.3), 0px 1px 3px 1px rgba(60, 64, 67, 0.15);\n",
              "      fill: #174EA6;\n",
              "    }\n",
              "\n",
              "    [theme=dark] .colab-df-convert {\n",
              "      background-color: #3B4455;\n",
              "      fill: #D2E3FC;\n",
              "    }\n",
              "\n",
              "    [theme=dark] .colab-df-convert:hover {\n",
              "      background-color: #434B5C;\n",
              "      box-shadow: 0px 1px 3px 1px rgba(0, 0, 0, 0.15);\n",
              "      filter: drop-shadow(0px 1px 2px rgba(0, 0, 0, 0.3));\n",
              "      fill: #FFFFFF;\n",
              "    }\n",
              "  </style>\n",
              "\n",
              "      <script>\n",
              "        const buttonEl =\n",
              "          document.querySelector('#df-802aa482-a5f6-4fab-81d1-3c23c71c1545 button.colab-df-convert');\n",
              "        buttonEl.style.display =\n",
              "          google.colab.kernel.accessAllowed ? 'block' : 'none';\n",
              "\n",
              "        async function convertToInteractive(key) {\n",
              "          const element = document.querySelector('#df-802aa482-a5f6-4fab-81d1-3c23c71c1545');\n",
              "          const dataTable =\n",
              "            await google.colab.kernel.invokeFunction('convertToInteractive',\n",
              "                                                     [key], {});\n",
              "          if (!dataTable) return;\n",
              "\n",
              "          const docLinkHtml = 'Like what you see? Visit the ' +\n",
              "            '<a target=\"_blank\" href=https://colab.research.google.com/notebooks/data_table.ipynb>data table notebook</a>'\n",
              "            + ' to learn more about interactive tables.';\n",
              "          element.innerHTML = '';\n",
              "          dataTable['output_type'] = 'display_data';\n",
              "          await google.colab.output.renderOutput(dataTable, element);\n",
              "          const docLink = document.createElement('div');\n",
              "          docLink.innerHTML = docLinkHtml;\n",
              "          element.appendChild(docLink);\n",
              "        }\n",
              "      </script>\n",
              "    </div>\n",
              "  </div>\n",
              "  "
            ]
          },
          "metadata": {},
          "execution_count": 32
        }
      ],
      "source": [
        "# С помощью метода groupby сделайте табличку (числа в ней - это средние баллы за ЕГЭ)\n",
        "\n",
        "df.groupby('Rock paper scissors')['Russian rating','Maths rating'].mean()"
      ]
    },
    {
      "cell_type": "markdown",
      "metadata": {
        "id": "mnEwJmIhcYMf"
      },
      "source": [
        "#### Пропуски в данных"
      ]
    },
    {
      "cell_type": "code",
      "execution_count": 33,
      "metadata": {
        "colab": {
          "base_uri": "https://localhost:8080/"
        },
        "id": "E6wMqFCPcYMf",
        "outputId": "057ca072-38c4-45f6-f554-b22d221b71d2"
      },
      "outputs": [
        {
          "output_type": "execute_result",
          "data": {
            "text/plain": [
              "36"
            ]
          },
          "metadata": {},
          "execution_count": 33
        }
      ],
      "source": [
        "# Простой вопрос: сколько людей не захотели заполнять признак \"Children number\"?\n",
        "\n",
        "df[\"Children number\"].isna().sum()"
      ]
    },
    {
      "cell_type": "code",
      "execution_count": 34,
      "metadata": {
        "colab": {
          "base_uri": "https://localhost:8080/"
        },
        "id": "hbm1ZaEVcYMf",
        "outputId": "ad741935-89c7-4860-8287-138a7a92cfa6"
      },
      "outputs": [
        {
          "output_type": "stream",
          "name": "stdout",
          "text": [
            "Средний вес людей = 63.532\n"
          ]
        }
      ],
      "source": [
        "# Будем заполнять пропуски в признаке \"Вес\". Но не просто так. Разобьем нашу\n",
        "# таблицу на две таблицы:\n",
        "# females=(все женщины из исходной таблицы)\n",
        "# males=(все мужчины из исходной таблицы)\n",
        "# Далее в таблице females заполните пропуски в столбце \"Вес\", записав туда\n",
        "# средний вес женщин. В таблице males заполните пропуски в столбце \"Вес\",\n",
        "# записав туда средний вес мужчин.\n",
        "# Далее объедините таблицы males и females в одну, запустив код:\n",
        "# df_new=males.append(females)\n",
        "# Далее в таблице df_new подсчитайте средний вес людей.\n",
        "\n",
        "grp = df.groupby('Sex').Weight.mean()\n",
        "for sex in grp.index:\n",
        "    df.loc[(df.Sex == sex) & (df.Weight.isna()), 'Weight'] = grp.loc[sex]\n",
        "print(f'Средний вес людей = {round(df.Weight.mean(), 3)}')"
      ]
    },
    {
      "cell_type": "markdown",
      "metadata": {
        "id": "FcsA8X_icYMf"
      },
      "source": [
        "В документации https://pandas.pydata.org/docs/reference/api/pandas.core.groupby.GroupBy.apply.html#pandas.core.groupby.GroupBy.apply\n",
        "\n",
        "А вообще все просто .apply() при применении на результат группировки просто вызывает функцию с каждой группой.  \n",
        "Аргументом функции будет датафрейм, либо, как в данном случае, серия, поскольку выбрана одна колонка Weight.  \n",
        "После применения функции к каждой группе все собирается в общий датафрейм или серию.  То есть в данном случае \n",
        "получаем серию с заполненными NA, но заполняющее значение своё в каждой группе."
      ]
    },
    {
      "cell_type": "code",
      "execution_count": 35,
      "metadata": {
        "colab": {
          "base_uri": "https://localhost:8080/"
        },
        "id": "ii2KBkr7cYMg",
        "outputId": "ff859e68-fc2f-4212-8197-d9a10bb9a987"
      },
      "outputs": [
        {
          "output_type": "stream",
          "name": "stdout",
          "text": [
            "Средний вес людей = 63.532\n"
          ]
        }
      ],
      "source": [
        "# второй вариант заполнения пропусков в признаке \"Вес\".\n",
        "\n",
        "df = pd.read_csv(file_csv)\n",
        "df.Weight = df.groupby('Sex').Weight.apply(lambda s: s.fillna(s.mean()))\n",
        "print(f'Средний вес людей = {round(df.Weight.mean(), 3)}')"
      ]
    },
    {
      "cell_type": "code",
      "execution_count": 36,
      "metadata": {
        "colab": {
          "base_uri": "https://localhost:8080/"
        },
        "id": "ltgdsfEacYMg",
        "outputId": "9d44ff88-7f3e-4723-e975-2e5b673c15a9"
      },
      "outputs": [
        {
          "output_type": "execute_result",
          "data": {
            "text/plain": [
              "63.53201161071252"
            ]
          },
          "metadata": {},
          "execution_count": 36
        }
      ],
      "source": [
        "# если нужно получить только одно число\n",
        "\n",
        "df.groupby('Sex').Weight.apply(lambda s: s.fillna(s.mean())).mean()"
      ]
    },
    {
      "cell_type": "code",
      "execution_count": 37,
      "metadata": {
        "colab": {
          "base_uri": "https://localhost:8080/"
        },
        "id": "x9vWzQ_BcYMg",
        "outputId": "2af878f6-c55c-4fa4-f9d2-7c7e043ddbe5"
      },
      "outputs": [
        {
          "output_type": "stream",
          "name": "stdout",
          "text": [
            "Медиана числа детей = 2\n"
          ]
        }
      ],
      "source": [
        "# Будем заполнять пропуски в признаке \"Желаемое число детей\" (Children number).\n",
        "# Но не просто так. Разобьем нашу таблицу на две таблицы:\n",
        "# singles=(все, у кого нет ни брата ни сестры)\n",
        "# sublings=(все, кто не попал в таблицу singles)\n",
        "\n",
        "df['single_child'] = df['Brother-sister'] == 'нет ни брата ни сестры'\n",
        "grp = df.groupby('single_child')['Children number'].median()\n",
        "for child in grp.index:\n",
        "    df.loc[(df['single_child'] == child) & (df['Children number'].isna()), 'Children number'] = grp.loc[child]\n",
        "print(f\"Медиана числа детей = {int(df['Children number'].median())}\")"
      ]
    },
    {
      "cell_type": "code",
      "execution_count": 38,
      "metadata": {
        "colab": {
          "base_uri": "https://localhost:8080/"
        },
        "id": "HYlavwBfcYMg",
        "outputId": "67b1087c-dc40-4d09-c9e4-426410ef79ae"
      },
      "outputs": [
        {
          "output_type": "stream",
          "name": "stdout",
          "text": [
            "Медиана числа детей = 2\n"
          ]
        }
      ],
      "source": [
        "# второй вариант заполнения пропусков в признаке \"Желаемое число детей\" (Children number).\n",
        "\n",
        "df = pd.read_csv(file_csv)\n",
        "df['single_child'] = df['Brother-sister'] == 'нет ни брата ни сестры'\n",
        "df['Children number'] = df.groupby('single_child')['Children number'].apply(lambda s: s.fillna(s.median()))\n",
        "print(f\"Медиана числа детей = {int(df['Children number'].median())}\")"
      ]
    },
    {
      "cell_type": "code",
      "execution_count": 39,
      "metadata": {
        "colab": {
          "base_uri": "https://localhost:8080/"
        },
        "id": "2ufq7P1ucYMg",
        "outputId": "bd0151ce-3ec9-4c22-830f-812431aa0982"
      },
      "outputs": [
        {
          "output_type": "execute_result",
          "data": {
            "text/plain": [
              "2.0"
            ]
          },
          "metadata": {},
          "execution_count": 39
        }
      ],
      "source": [
        "# если нужно получить только одно число\n",
        "\n",
        "df.groupby('single_child')['Children number'].apply(lambda s: s.fillna(s.median())).median()"
      ]
    },
    {
      "cell_type": "markdown",
      "metadata": {
        "id": "IXOrDmIScYMh"
      },
      "source": [
        "#### Выбросы и аномалии"
      ]
    },
    {
      "cell_type": "code",
      "execution_count": 40,
      "metadata": {
        "colab": {
          "base_uri": "https://localhost:8080/"
        },
        "id": "6Ezc8QvycYMh",
        "outputId": "b2b5215f-ca46-4d88-e56b-74ad1bd76ffd"
      },
      "outputs": [
        {
          "output_type": "stream",
          "name": "stdout",
          "text": [
            "Осталось студентов после удаления выбросов: 148\n"
          ]
        }
      ],
      "source": [
        "# Будем применять метод, который в лекциях назван \"Второй способ поиска выбросов\". \n",
        "# Мы спрашивали у студентов, какой сейчас возраст у В.В. Путина (опрос проводился в сентябре 2022г). \n",
        "# Результаты опроса показали, что некоторые студенты не проявили достаточного почтения к содержанию вопроса. \n",
        "# Предлагается найти всех таких студентов с помощью \"Второго способа поиска выбросов\" и удалить их из таблицы \n",
        "# в качестве наказания!\n",
        "# Повторите действия из \"Второго способа поиска выбросов\" для признака \"Putin age\".\n",
        "# Сколько студентов осталось после этого в нашей таблице? \n",
        "\n",
        "a, b = df['Putin age'].quantile(0.25), df['Putin age'].quantile(0.75)\n",
        "df_cut = df[(df['Putin age'] > a - 1.5 * (b - a)) & (df['Putin age'] < b + 1.5 * (b - a))]\n",
        "print(f'Осталось студентов после удаления выбросов: {len(df_cut)}')"
      ]
    },
    {
      "cell_type": "code",
      "execution_count": 41,
      "metadata": {
        "colab": {
          "base_uri": "https://localhost:8080/",
          "height": 123
        },
        "id": "i9CkeMTycYMh",
        "outputId": "2c1b9045-bd33-4b88-b366-44ac1bca8d28"
      },
      "outputs": [
        {
          "output_type": "display_data",
          "data": {
            "text/plain": [
              "<Figure size 1152x72 with 1 Axes>"
            ],
            "image/png": "[encoded data removed]"
          },
          "metadata": {
            "needs_background": "light"
          }
        }
      ],
      "source": [
        "fig, ax = plt.subplots(figsize=(16, 1))\n",
        "sns.boxplot(df_cut['Putin age'])\n",
        "plt.show()"
      ]
    },
    {
      "cell_type": "code",
      "execution_count": 42,
      "metadata": {
        "colab": {
          "base_uri": "https://localhost:8080/"
        },
        "id": "WVwbNczbcYMh",
        "outputId": "fccbbf27-8bab-4656-dfdd-c7c44c74e9fb"
      },
      "outputs": [
        {
          "output_type": "stream",
          "name": "stdout",
          "text": [
            "Медиана признака \"Putin age\" = 69\n"
          ]
        }
      ],
      "source": [
        "# вопрос: чему равна медиана признака \"Putin age\" после удаления всех выбросов?\n",
        "\n",
        "print(f'Медиана признака \"Putin age\" = {int(df_cut[\"Putin age\"].median())}')"
      ]
    },
    {
      "cell_type": "markdown",
      "metadata": {
        "id": "iPwM65hJcYMh"
      },
      "source": [
        "#### Кластеризация"
      ]
    },
    {
      "cell_type": "code",
      "execution_count": 43,
      "metadata": {
        "colab": {
          "base_uri": "https://localhost:8080/"
        },
        "id": "eVFyocxFcYMi",
        "outputId": "59860ecf-9e10-4438-b80e-7615e9d6e84a"
      },
      "outputs": [
        {
          "output_type": "stream",
          "name": "stdout",
          "text": [
            "Студентов с меткой \"0\" = 118\n"
          ]
        }
      ],
      "source": [
        "# Загрузите в таблицу данные о весе и размере обуви студентов.\n",
        "# Не забудьте удалить пропуски в данных с помощью молитвы-метода dropna()\n",
        "# Запустите алгоритм kmeans с параметрами n_clusters=2, random_state=1\n",
        "# В окошко ответа запишите количество студентов, которым после кластеризации\n",
        "# была присвоена метка 0.\n",
        "\n",
        "from sklearn.cluster import KMeans\n",
        "\n",
        "df = pd.read_csv(file_csv)\n",
        "df_cut = df[['Weight', 'Shoe size' ]].dropna()\n",
        "kmeans = KMeans(n_clusters=2, random_state=1)\n",
        "kmeans.fit(df_cut)\n",
        "print(f'Студентов с меткой \"0\" = {sum(map(lambda x: not x, kmeans.labels_))}')"
      ]
    },
    {
      "cell_type": "code",
      "execution_count": 44,
      "metadata": {
        "colab": {
          "base_uri": "https://localhost:8080/"
        },
        "id": "ren9rSYmcYMi",
        "outputId": "92b1a5bf-f6b6-4bc8-8c14-0e6226a628a4"
      },
      "outputs": [
        {
          "output_type": "execute_result",
          "data": {
            "text/plain": [
              "0    118\n",
              "1     39\n",
              "Name: Label, dtype: int64"
            ]
          },
          "metadata": {},
          "execution_count": 44
        }
      ],
      "source": [
        "# Второй способ подсчета\n",
        "\n",
        "df_cut['Label'] = kmeans.labels_\n",
        "df_cut['Label'].value_counts()"
      ]
    },
    {
      "cell_type": "markdown",
      "metadata": {
        "id": "2qDqlJSicYMi"
      },
      "source": [
        "#### Задача предсказания и регрессия"
      ]
    },
    {
      "cell_type": "code",
      "execution_count": 45,
      "metadata": {
        "colab": {
          "base_uri": "https://localhost:8080/"
        },
        "id": "9DeJ8n_McYMi",
        "outputId": "1375fb9b-e480-4dd1-d985-27ab5de7b77e"
      },
      "outputs": [
        {
          "output_type": "stream",
          "name": "stdout",
          "text": [
            "Предсказанный возраст первого студента: 20.62\n"
          ]
        }
      ],
      "source": [
        "from sklearn.linear_model import LinearRegression\n",
        "\n",
        "df = pd.read_csv(file_csv)\n",
        "col_names = ['Age', 'Year of birth', 'Month of birthday']\n",
        "df_cut = df[col_names]\n",
        "regres = LinearRegression()\n",
        "result = regres.fit(df_cut[col_names[1:]], df_cut[col_names[0]])\n",
        "\n",
        "df_test = pd.read_csv(test_csv, usecols=col_names)\n",
        "df_test['Predicted'] = regres.predict(df_test[col_names[1:]]).round(2)\n",
        "print(f\"Предсказанный возраст первого студента: {df_test.loc[0, 'Predicted']}\")"
      ]
    },
    {
      "cell_type": "code",
      "execution_count": 46,
      "metadata": {
        "colab": {
          "base_uri": "https://localhost:8080/"
        },
        "id": "m2PCECrqcYMi",
        "outputId": "d4908aa1-dded-41d1-f097-4f7c918ff972"
      },
      "outputs": [
        {
          "output_type": "stream",
          "name": "stdout",
          "text": [
            "MAE = 1.6054960000660923\n"
          ]
        }
      ],
      "source": [
        "# запишите среднюю абсолютную ошибку (mean absolute error) модели на тестовой выборке.\n",
        "\n",
        "from sklearn.metrics import mean_absolute_error\n",
        "\n",
        "df_test['Predicted'] = regres.predict(df_test[col_names[1:]])\n",
        "print(f\"MAE = {mean_absolute_error(df_test['Age'], df_test['Predicted'])}\")"
      ]
    },
    {
      "cell_type": "markdown",
      "metadata": {
        "id": "pTOZ5c1xcYMj"
      },
      "source": [
        "#### Алгоритмы классификации"
      ]
    },
    {
      "cell_type": "code",
      "execution_count": 47,
      "metadata": {
        "colab": {
          "base_uri": "https://localhost:8080/"
        },
        "id": "I_63CSMucYMj",
        "outputId": "79117195-6042-4241-ebdf-66365f1051bf"
      },
      "outputs": [
        {
          "output_type": "stream",
          "name": "stdout",
          "text": [
            "Студентки детектированы как женщины: 61\n"
          ]
        }
      ],
      "source": [
        "# Будем по признакам 'Hair length','Shoe size' предсказывать признак 'Sex'.\n",
        "# Загрузите эти признаки из таблицы students.csv\n",
        "# Пронормируйте признаки 'Hair length','Shoe size' используя StandardScaler\n",
        "# Запустите модель KNeighborsClassifier(n_neighbors=3), и получите предсказания\n",
        "# для студентов из тестовой выборки students_test.csv\n",
        "# С помощью команды pd.crosstab постройте матрицу ошибок (таблицу сопряженности\n",
        "# предсказанного и истинного пола студентов.\n",
        "# В отчет запишите количество студентов женского пола,\n",
        "# которые были детектированы как женщины.\n",
        "\n",
        "from sklearn.neighbors import KNeighborsClassifier\n",
        "from sklearn.preprocessing import StandardScaler\n",
        "\n",
        "col_names = ['Hair length', 'Shoe size', 'Sex']\n",
        "df_cut = pd.read_csv(file_csv, usecols=col_names)\n",
        "df_test = pd.read_csv(test_csv, usecols=col_names)\n",
        "\n",
        "scaler = StandardScaler()\n",
        "X_train_scaled = scaler.fit_transform(df_cut[col_names[:-1]])\n",
        "X_test_scaled = scaler.transform(df_test[col_names[:-1]])\n",
        "\n",
        "model = KNeighborsClassifier(n_neighbors=3)\n",
        "model.fit(X_train_scaled, df_cut['Sex'])\n",
        "df_test['Predicted'] = model.predict(X_test_scaled)\n",
        "cr_tab = pd.crosstab(df_test['Predicted'], df_test['Sex'])\n",
        "print(f\"Студентки детектированы как женщины: {cr_tab.loc['женский', 'женский']}\")"
      ]
    },
    {
      "cell_type": "code",
      "execution_count": 48,
      "metadata": {
        "colab": {
          "base_uri": "https://localhost:8080/",
          "height": 143
        },
        "id": "Tt30FrhwcYMj",
        "outputId": "7b6b26d9-7b15-4ed5-e6ce-2c6bdce1fd63"
      },
      "outputs": [
        {
          "output_type": "execute_result",
          "data": {
            "text/plain": [
              "Sex        женский  мужской\n",
              "Predicted                  \n",
              "женский         61        1\n",
              "мужской          1       35"
            ],
            "text/html": [
              "\n",
              "  <div id=\"df-b512214a-f867-4d04-b6e0-5211bdf8b09f\">\n",
              "    <div class=\"colab-df-container\">\n",
              "      <div>\n",
              "<style scoped>\n",
              "    .dataframe tbody tr th:only-of-type {\n",
              "        vertical-align: middle;\n",
              "    }\n",
              "\n",
              "    .dataframe tbody tr th {\n",
              "        vertical-align: top;\n",
              "    }\n",
              "\n",
              "    .dataframe thead th {\n",
              "        text-align: right;\n",
              "    }\n",
              "</style>\n",
              "<table border=\"1\" class=\"dataframe\">\n",
              "  <thead>\n",
              "    <tr style=\"text-align: right;\">\n",
              "      <th>Sex</th>\n",
              "      <th>женский</th>\n",
              "      <th>мужской</th>\n",
              "    </tr>\n",
              "    <tr>\n",
              "      <th>Predicted</th>\n",
              "      <th></th>\n",
              "      <th></th>\n",
              "    </tr>\n",
              "  </thead>\n",
              "  <tbody>\n",
              "    <tr>\n",
              "      <th>женский</th>\n",
              "      <td>61</td>\n",
              "      <td>1</td>\n",
              "    </tr>\n",
              "    <tr>\n",
              "      <th>мужской</th>\n",
              "      <td>1</td>\n",
              "      <td>35</td>\n",
              "    </tr>\n",
              "  </tbody>\n",
              "</table>\n",
              "</div>\n",
              "      <button class=\"colab-df-convert\" onclick=\"convertToInteractive('df-b512214a-f867-4d04-b6e0-5211bdf8b09f')\"\n",
              "              title=\"Convert this dataframe to an interactive table.\"\n",
              "              style=\"display:none;\">\n",
              "        \n",
              "  <svg xmlns=\"http://www.w3.org/2000/svg\" height=\"24px\"viewBox=\"0 0 24 24\"\n",
              "       width=\"24px\">\n",
              "    <path d=\"M0 0h24v24H0V0z\" fill=\"none\"/>\n",
              "    <path d=\"M18.56 5.44l.94 2.06.94-2.06 2.06-.94-2.06-.94-.94-2.06-.94 2.06-2.06.94zm-11 1L8.5 8.5l.94-2.06 2.06-.94-2.06-.94L8.5 2.5l-.94 2.06-2.06.94zm10 10l.94 2.06.94-2.06 2.06-.94-2.06-.94-.94-2.06-.94 2.06-2.06.94z\"/><path d=\"M17.41 7.96l-1.37-1.37c-.4-.4-.92-.59-1.43-.59-.52 0-1.04.2-1.43.59L10.3 9.45l-7.72 7.72c-.78.78-.78 2.05 0 2.83L4 21.41c.39.39.9.59 1.41.59.51 0 1.02-.2 1.41-.59l7.78-7.78 2.81-2.81c.8-.78.8-2.07 0-2.86zM5.41 20L4 18.59l7.72-7.72 1.47 1.35L5.41 20z\"/>\n",
              "  </svg>\n",
              "      </button>\n",
              "      \n",
              "  <style>\n",
              "    .colab-df-container {\n",
              "      display:flex;\n",
              "      flex-wrap:wrap;\n",
              "      gap: 12px;\n",
              "    }\n",
              "\n",
              "    .colab-df-convert {\n",
              "      background-color: #E8F0FE;\n",
              "      border: none;\n",
              "      border-radius: 50%;\n",
              "      cursor: pointer;\n",
              "      display: none;\n",
              "      fill: #1967D2;\n",
              "      height: 32px;\n",
              "      padding: 0 0 0 0;\n",
              "      width: 32px;\n",
              "    }\n",
              "\n",
              "    .colab-df-convert:hover {\n",
              "      background-color: #E2EBFA;\n",
              "      box-shadow: 0px 1px 2px rgba(60, 64, 67, 0.3), 0px 1px 3px 1px rgba(60, 64, 67, 0.15);\n",
              "      fill: #174EA6;\n",
              "    }\n",
              "\n",
              "    [theme=dark] .colab-df-convert {\n",
              "      background-color: #3B4455;\n",
              "      fill: #D2E3FC;\n",
              "    }\n",
              "\n",
              "    [theme=dark] .colab-df-convert:hover {\n",
              "      background-color: #434B5C;\n",
              "      box-shadow: 0px 1px 3px 1px rgba(0, 0, 0, 0.15);\n",
              "      filter: drop-shadow(0px 1px 2px rgba(0, 0, 0, 0.3));\n",
              "      fill: #FFFFFF;\n",
              "    }\n",
              "  </style>\n",
              "\n",
              "      <script>\n",
              "        const buttonEl =\n",
              "          document.querySelector('#df-b512214a-f867-4d04-b6e0-5211bdf8b09f button.colab-df-convert');\n",
              "        buttonEl.style.display =\n",
              "          google.colab.kernel.accessAllowed ? 'block' : 'none';\n",
              "\n",
              "        async function convertToInteractive(key) {\n",
              "          const element = document.querySelector('#df-b512214a-f867-4d04-b6e0-5211bdf8b09f');\n",
              "          const dataTable =\n",
              "            await google.colab.kernel.invokeFunction('convertToInteractive',\n",
              "                                                     [key], {});\n",
              "          if (!dataTable) return;\n",
              "\n",
              "          const docLinkHtml = 'Like what you see? Visit the ' +\n",
              "            '<a target=\"_blank\" href=https://colab.research.google.com/notebooks/data_table.ipynb>data table notebook</a>'\n",
              "            + ' to learn more about interactive tables.';\n",
              "          element.innerHTML = '';\n",
              "          dataTable['output_type'] = 'display_data';\n",
              "          await google.colab.output.renderOutput(dataTable, element);\n",
              "          const docLink = document.createElement('div');\n",
              "          docLink.innerHTML = docLinkHtml;\n",
              "          element.appendChild(docLink);\n",
              "        }\n",
              "      </script>\n",
              "    </div>\n",
              "  </div>\n",
              "  "
            ]
          },
          "metadata": {},
          "execution_count": 48
        }
      ],
      "source": [
        "cr_tab"
      ]
    },
    {
      "cell_type": "code",
      "execution_count": 49,
      "metadata": {
        "colab": {
          "base_uri": "https://localhost:8080/"
        },
        "id": "RYNmYZkNcYMj",
        "outputId": "dd9bf02a-c9df-46d0-94d2-096161fa8e65"
      },
      "outputs": [
        {
          "output_type": "stream",
          "name": "stdout",
          "text": [
            "Студенты детектированы как мужчины 35\n"
          ]
        }
      ],
      "source": [
        "from sklearn.linear_model import SGDClassifier\n",
        "from sklearn.preprocessing import StandardScaler\n",
        "\n",
        "col_names = ['Hair length', 'Shoe size', 'Sex']\n",
        "df_cut = pd.read_csv(file_csv, usecols=col_names)\n",
        "df_test = pd.read_csv(test_csv, usecols=col_names)\n",
        "\n",
        "scaler = StandardScaler()\n",
        "X_train_scaled = scaler.fit_transform(df_cut[col_names[:-1]])\n",
        "X_test_scaled = scaler.transform(df_test[col_names[:-1]])\n",
        "\n",
        "sgd = SGDClassifier(random_state=0)\n",
        "sgd.fit(X_train_scaled, df_cut['Sex'])\n",
        "df_test['Predicted'] = sgd.predict(X_test_scaled)\n",
        "cr_tab = pd.crosstab(df_test['Predicted'], df_test['Sex'])\n",
        "print(f\"Студенты детектированы как мужчины {cr_tab.loc['мужской', 'мужской']}\")"
      ]
    },
    {
      "cell_type": "code",
      "execution_count": 50,
      "metadata": {
        "colab": {
          "base_uri": "https://localhost:8080/",
          "height": 143
        },
        "id": "DR0MFATlcYMk",
        "outputId": "81a15bbc-3f69-4662-dd49-9b3989efe694"
      },
      "outputs": [
        {
          "output_type": "execute_result",
          "data": {
            "text/plain": [
              "Sex        женский  мужской\n",
              "Predicted                  \n",
              "женский         61        1\n",
              "мужской          1       35"
            ],
            "text/html": [
              "\n",
              "  <div id=\"df-e1f4e17e-0890-4ff0-8bbe-219c0e75e5a7\">\n",
              "    <div class=\"colab-df-container\">\n",
              "      <div>\n",
              "<style scoped>\n",
              "    .dataframe tbody tr th:only-of-type {\n",
              "        vertical-align: middle;\n",
              "    }\n",
              "\n",
              "    .dataframe tbody tr th {\n",
              "        vertical-align: top;\n",
              "    }\n",
              "\n",
              "    .dataframe thead th {\n",
              "        text-align: right;\n",
              "    }\n",
              "</style>\n",
              "<table border=\"1\" class=\"dataframe\">\n",
              "  <thead>\n",
              "    <tr style=\"text-align: right;\">\n",
              "      <th>Sex</th>\n",
              "      <th>женский</th>\n",
              "      <th>мужской</th>\n",
              "    </tr>\n",
              "    <tr>\n",
              "      <th>Predicted</th>\n",
              "      <th></th>\n",
              "      <th></th>\n",
              "    </tr>\n",
              "  </thead>\n",
              "  <tbody>\n",
              "    <tr>\n",
              "      <th>женский</th>\n",
              "      <td>61</td>\n",
              "      <td>1</td>\n",
              "    </tr>\n",
              "    <tr>\n",
              "      <th>мужской</th>\n",
              "      <td>1</td>\n",
              "      <td>35</td>\n",
              "    </tr>\n",
              "  </tbody>\n",
              "</table>\n",
              "</div>\n",
              "      <button class=\"colab-df-convert\" onclick=\"convertToInteractive('df-e1f4e17e-0890-4ff0-8bbe-219c0e75e5a7')\"\n",
              "              title=\"Convert this dataframe to an interactive table.\"\n",
              "              style=\"display:none;\">\n",
              "        \n",
              "  <svg xmlns=\"http://www.w3.org/2000/svg\" height=\"24px\"viewBox=\"0 0 24 24\"\n",
              "       width=\"24px\">\n",
              "    <path d=\"M0 0h24v24H0V0z\" fill=\"none\"/>\n",
              "    <path d=\"M18.56 5.44l.94 2.06.94-2.06 2.06-.94-2.06-.94-.94-2.06-.94 2.06-2.06.94zm-11 1L8.5 8.5l.94-2.06 2.06-.94-2.06-.94L8.5 2.5l-.94 2.06-2.06.94zm10 10l.94 2.06.94-2.06 2.06-.94-2.06-.94-.94-2.06-.94 2.06-2.06.94z\"/><path d=\"M17.41 7.96l-1.37-1.37c-.4-.4-.92-.59-1.43-.59-.52 0-1.04.2-1.43.59L10.3 9.45l-7.72 7.72c-.78.78-.78 2.05 0 2.83L4 21.41c.39.39.9.59 1.41.59.51 0 1.02-.2 1.41-.59l7.78-7.78 2.81-2.81c.8-.78.8-2.07 0-2.86zM5.41 20L4 18.59l7.72-7.72 1.47 1.35L5.41 20z\"/>\n",
              "  </svg>\n",
              "      </button>\n",
              "      \n",
              "  <style>\n",
              "    .colab-df-container {\n",
              "      display:flex;\n",
              "      flex-wrap:wrap;\n",
              "      gap: 12px;\n",
              "    }\n",
              "\n",
              "    .colab-df-convert {\n",
              "      background-color: #E8F0FE;\n",
              "      border: none;\n",
              "      border-radius: 50%;\n",
              "      cursor: pointer;\n",
              "      display: none;\n",
              "      fill: #1967D2;\n",
              "      height: 32px;\n",
              "      padding: 0 0 0 0;\n",
              "      width: 32px;\n",
              "    }\n",
              "\n",
              "    .colab-df-convert:hover {\n",
              "      background-color: #E2EBFA;\n",
              "      box-shadow: 0px 1px 2px rgba(60, 64, 67, 0.3), 0px 1px 3px 1px rgba(60, 64, 67, 0.15);\n",
              "      fill: #174EA6;\n",
              "    }\n",
              "\n",
              "    [theme=dark] .colab-df-convert {\n",
              "      background-color: #3B4455;\n",
              "      fill: #D2E3FC;\n",
              "    }\n",
              "\n",
              "    [theme=dark] .colab-df-convert:hover {\n",
              "      background-color: #434B5C;\n",
              "      box-shadow: 0px 1px 3px 1px rgba(0, 0, 0, 0.15);\n",
              "      filter: drop-shadow(0px 1px 2px rgba(0, 0, 0, 0.3));\n",
              "      fill: #FFFFFF;\n",
              "    }\n",
              "  </style>\n",
              "\n",
              "      <script>\n",
              "        const buttonEl =\n",
              "          document.querySelector('#df-e1f4e17e-0890-4ff0-8bbe-219c0e75e5a7 button.colab-df-convert');\n",
              "        buttonEl.style.display =\n",
              "          google.colab.kernel.accessAllowed ? 'block' : 'none';\n",
              "\n",
              "        async function convertToInteractive(key) {\n",
              "          const element = document.querySelector('#df-e1f4e17e-0890-4ff0-8bbe-219c0e75e5a7');\n",
              "          const dataTable =\n",
              "            await google.colab.kernel.invokeFunction('convertToInteractive',\n",
              "                                                     [key], {});\n",
              "          if (!dataTable) return;\n",
              "\n",
              "          const docLinkHtml = 'Like what you see? Visit the ' +\n",
              "            '<a target=\"_blank\" href=https://colab.research.google.com/notebooks/data_table.ipynb>data table notebook</a>'\n",
              "            + ' to learn more about interactive tables.';\n",
              "          element.innerHTML = '';\n",
              "          dataTable['output_type'] = 'display_data';\n",
              "          await google.colab.output.renderOutput(dataTable, element);\n",
              "          const docLink = document.createElement('div');\n",
              "          docLink.innerHTML = docLinkHtml;\n",
              "          element.appendChild(docLink);\n",
              "        }\n",
              "      </script>\n",
              "    </div>\n",
              "  </div>\n",
              "  "
            ]
          },
          "metadata": {},
          "execution_count": 50
        }
      ],
      "source": [
        "cr_tab"
      ]
    },
    {
      "cell_type": "markdown",
      "metadata": {
        "id": "tpJhhMFNcYMk"
      },
      "source": [
        "####  Решающие деревья"
      ]
    },
    {
      "cell_type": "code",
      "execution_count": 51,
      "metadata": {
        "id": "mL2P8uA5cYMk"
      },
      "outputs": [],
      "source": [
        "# Будем по признакам 'Hair length','Shoe size' предсказывать признак 'Sex'. \n",
        "# Загрузите эти признаки из таблицы students.csv\n",
        "# Запустите модель DecisionTreeClassifier, указав максимальную глубину дерева равную 2.\n",
        "# Чему равно заштрихованное число в корне дерева?\n",
        "# https://stepik.org/lesson/802416/step/7\n",
        "\n",
        "from sklearn.tree import DecisionTreeClassifier, plot_tree"
      ]
    },
    {
      "cell_type": "code",
      "execution_count": 52,
      "metadata": {
        "colab": {
          "base_uri": "https://localhost:8080/",
          "height": 340
        },
        "id": "sMZP9wBucYMk",
        "outputId": "d3a36ea9-b332-408c-9f5d-2ffcca8e5997"
      },
      "outputs": [
        {
          "output_type": "execute_result",
          "data": {
            "text/plain": [
              "[Text(0.6, 0.8333333333333334, 'X[1] <= 41.5\\ngini = 0.458\\nsamples = 186\\nvalue = [120, 66]'),\n",
              " Text(0.4, 0.5, 'X[0] <= 8.5\\ngini = 0.176\\nsamples = 133\\nvalue = [120, 13]'),\n",
              " Text(0.2, 0.16666666666666666, 'gini = 0.0\\nsamples = 6\\nvalue = [0, 6]'),\n",
              " Text(0.6, 0.16666666666666666, 'gini = 0.104\\nsamples = 127\\nvalue = [120, 7]'),\n",
              " Text(0.8, 0.5, 'gini = 0.0\\nsamples = 53\\nvalue = [0, 53]')]"
            ]
          },
          "metadata": {},
          "execution_count": 52
        },
        {
          "output_type": "display_data",
          "data": {
            "text/plain": [
              "<Figure size 432x288 with 1 Axes>"
            ],
            "image/png": "[encoded data removed]"
          },
          "metadata": {
            "needs_background": "light"
          }
        }
      ],
      "source": [
        "df = pd.read_csv(file_csv)\n",
        "\n",
        "model_dtc = DecisionTreeClassifier(max_depth=2)\n",
        "model_dtc.fit(df[['Hair length', 'Shoe size']], df['Sex'])\n",
        "\n",
        "plot_tree(model_dtc)"
      ]
    },
    {
      "cell_type": "code",
      "execution_count": 53,
      "metadata": {
        "id": "gSimshXRcYMl"
      },
      "outputs": [],
      "source": [
        "from sklearn.metrics import classification_report, precision_recall_fscore_support\n",
        "\n",
        "df_test['Predicted'] = model_dtc.predict(df_test[['Hair length', 'Shoe size']])"
      ]
    },
    {
      "cell_type": "code",
      "execution_count": 54,
      "metadata": {
        "colab": {
          "base_uri": "https://localhost:8080/"
        },
        "id": "WIntx79kcYMl",
        "outputId": "f9fe0bab-b381-4ed3-9e0b-8531e0dcef0e"
      },
      "outputs": [
        {
          "output_type": "stream",
          "name": "stdout",
          "text": [
            "Значение recall (для мужчин) = 0.9444444444444444\n"
          ]
        }
      ],
      "source": [
        "# precision, recall, f1-score, support: (женский, мужской)\n",
        "\n",
        "scores = precision_recall_fscore_support(df_test['Sex'], df_test['Predicted'])\n",
        "print(f'Значение recall (для мужчин) = {scores[1][1]}')"
      ]
    },
    {
      "cell_type": "code",
      "execution_count": 55,
      "metadata": {
        "colab": {
          "base_uri": "https://localhost:8080/"
        },
        "id": "aTXhr2f6cYMl",
        "outputId": "c688be10-ba3a-4e3e-a403-af3411e8362c"
      },
      "outputs": [
        {
          "output_type": "stream",
          "name": "stdout",
          "text": [
            "              precision    recall  f1-score   support\n",
            "\n",
            "     женский       0.97      0.98      0.98        62\n",
            "     мужской       0.97      0.94      0.96        36\n",
            "\n",
            "    accuracy                           0.97        98\n",
            "   macro avg       0.97      0.96      0.97        98\n",
            "weighted avg       0.97      0.97      0.97        98\n",
            "\n"
          ]
        }
      ],
      "source": [
        "print(classification_report(df_test['Sex'], df_test['Predicted']))"
      ]
    },
    {
      "cell_type": "code",
      "execution_count": 56,
      "metadata": {
        "colab": {
          "base_uri": "https://localhost:8080/",
          "height": 523
        },
        "id": "eOqklJOicYMl",
        "outputId": "8a60e3ad-6e18-4376-9acf-8d328bfd0e5c"
      },
      "outputs": [
        {
          "output_type": "execute_result",
          "data": {
            "text/plain": [
              "[Text(0.5, 0.875, 'X[0] <= 1996.5\\nsquared_error = 11.967\\nsamples = 186\\nvalue = 20.688'),\n",
              " Text(0.25, 0.625, 'X[1] <= 11.0\\nsquared_error = 80.89\\nsamples = 10\\nvalue = 30.1'),\n",
              " Text(0.125, 0.375, 'X[1] <= 8.0\\nsquared_error = 7.673\\nsamples = 7\\nvalue = 26.429'),\n",
              " Text(0.0625, 0.125, 'squared_error = 3.2\\nsamples = 5\\nvalue = 25.0'),\n",
              " Text(0.1875, 0.125, 'squared_error = 1.0\\nsamples = 2\\nvalue = 30.0'),\n",
              " Text(0.375, 0.375, 'X[0] <= 1973.0\\nsquared_error = 146.889\\nsamples = 3\\nvalue = 38.667'),\n",
              " Text(0.3125, 0.125, 'squared_error = 0.0\\nsamples = 1\\nvalue = 55.0'),\n",
              " Text(0.4375, 0.125, 'squared_error = 20.25\\nsamples = 2\\nvalue = 30.5'),\n",
              " Text(0.75, 0.625, 'X[0] <= 2001.5\\nsquared_error = 2.732\\nsamples = 176\\nvalue = 20.153'),\n",
              " Text(0.625, 0.375, 'X[0] <= 1999.5\\nsquared_error = 1.28\\nsamples = 83\\nvalue = 21.578'),\n",
              " Text(0.5625, 0.125, 'squared_error = 0.628\\nsamples = 22\\nvalue = 23.091'),\n",
              " Text(0.6875, 0.125, 'squared_error = 0.392\\nsamples = 61\\nvalue = 21.033'),\n",
              " Text(0.875, 0.375, 'X[0] <= 2002.5\\nsquared_error = 0.599\\nsamples = 93\\nvalue = 18.882'),\n",
              " Text(0.8125, 0.125, 'squared_error = 0.231\\nsamples = 33\\nvalue = 19.636'),\n",
              " Text(0.9375, 0.125, 'squared_error = 0.316\\nsamples = 60\\nvalue = 18.467')]"
            ]
          },
          "metadata": {},
          "execution_count": 56
        },
        {
          "output_type": "display_data",
          "data": {
            "text/plain": [
              "<Figure size 432x288 with 1 Axes>"
            ],
            "image/png": "[encoded data removed]"
          },
          "metadata": {
            "needs_background": "light"
          }
        }
      ],
      "source": [
        "# Будем по признакам 'Year of birth', 'Month of birthday' предсказывать признак\n",
        "# 'Age'. Загрузите эти признаки из таблицы students.csv\n",
        "# Запустите модель DecisionTreeRegressor, установив максимальную глубину \n",
        "# дерева 3. Чему равно заштрихованное число в корне построенного дерева?\n",
        "\n",
        "from sklearn.tree import DecisionTreeRegressor, plot_tree\n",
        "\n",
        "df = pd.read_csv(file_csv)\n",
        "\n",
        "model_dtr = DecisionTreeRegressor(max_depth=3)\n",
        "model_dtr.fit(df[['Year of birth', 'Month of birthday']], df['Age'])\n",
        "\n",
        "plot_tree(model_dtr)"
      ]
    },
    {
      "cell_type": "code",
      "execution_count": 57,
      "metadata": {
        "colab": {
          "base_uri": "https://localhost:8080/"
        },
        "id": "ObuEE7akcYMl",
        "outputId": "a266d96a-3cbe-4c1e-94b4-fea822c3ab6e"
      },
      "outputs": [
        {
          "output_type": "stream",
          "name": "stdout",
          "text": [
            "mean absolute error (MAE) = 0.7241329318612689\n"
          ]
        }
      ],
      "source": [
        "# Запустите модель DecisionTreeRegressor, установив максимальную глубину дерева\n",
        "# 3 и получите предсказания для студентов из тестовой выборки students_test.csv\n",
        "# В окошко ответа запишите среднюю абсолютную ошибку MAE на тестовой выборке.\n",
        "\n",
        "from sklearn.tree import DecisionTreeRegressor\n",
        "from sklearn.metrics import mean_absolute_error\n",
        "\n",
        "df = pd.read_csv(file_csv)\n",
        "df_test = pd.read_csv(test_csv)\n",
        "\n",
        "model_dtr = DecisionTreeRegressor(max_depth=3)\n",
        "model_dtr.fit(df[['Year of birth', 'Month of birthday']], df.Age)\n",
        "df_test['Age_Pred'] = model_dtr.predict(df_test[['Year of birth', 'Month of birthday']])\n",
        "\n",
        "print(f'mean absolute error (MAE) = {mean_absolute_error(df_test.Age, df_test.Age_Pred)}')"
      ]
    },
    {
      "cell_type": "markdown",
      "metadata": {
        "id": "GLVCspw8cYMm"
      },
      "source": [
        "#### Бустинг и ансамбли алгоритмов"
      ]
    },
    {
      "cell_type": "code",
      "execution_count": 58,
      "metadata": {
        "id": "s_vbrtdecYMm"
      },
      "outputs": [],
      "source": [
        "# Будем предсказывать институт, где учится студент (признак \"Your unstitute\")\n",
        "# по баллам, на которые он написал ЕГЭ. Баллы за ЕГЭ занимают в нашей таблице\n",
        "# столбцы с номерами 6-16. Чтобы из исходной таблицы выбрать только указанные\n",
        "# столбцы нужно выполнить команду df_test.iloc[:,6:17] - это и будет таблица,\n",
        "# в которой остались только столбцы с результатами ЕГЭ.\n",
        "# Натренируйте модель RandomForestClassifier(max_depth=4, random_state=0) для\n",
        "# предсказания признака \"Your unstitute\" и запустите ее на тестовой выборке\n",
        "# student_test.csv\n",
        "# В окошко ответа запишите количество экономистов, которые были детектированы\n",
        "# алгоритмом как математики.\n",
        "\n",
        "from sklearn.ensemble import RandomForestClassifier\n",
        "\n",
        "df = pd.read_csv(file_csv)\n",
        "df_test = pd.read_csv(test_csv)\n",
        "model_rf = RandomForestClassifier(max_depth=4, random_state=0)\n",
        "model_rf.fit(df.iloc[:, 6:17], y=df['Your insitute'])\n",
        "df_test['institute'] = model_rf.predict(df_test.iloc[:, 6:17])"
      ]
    },
    {
      "cell_type": "code",
      "execution_count": 59,
      "metadata": {
        "colab": {
          "base_uri": "https://localhost:8080/",
          "height": 287
        },
        "id": "zcLHHyN2cYMm",
        "outputId": "7dec98a5-d8d2-4207-ad5c-7bcfed120e14"
      },
      "outputs": [
        {
          "output_type": "stream",
          "name": "stdout",
          "text": [
            "Экономисты, детектированы как математики = 12\n"
          ]
        },
        {
          "output_type": "execute_result",
          "data": {
            "text/plain": [
              "Your insitute                                 Другое  \\\n",
              "institute                                              \n",
              "Другое                                             1   \n",
              "Естественный (биология-химия-физика-технари)       0   \n",
              "Математический и ИТ                                5   \n",
              "СоцГум                                             0   \n",
              "Экономический                                      1   \n",
              "Юридический                                        0   \n",
              "\n",
              "Your insitute                                 Естественный (биология-химия-физика-технари)  \\\n",
              "institute                                                                                    \n",
              "Другое                                                                                   0   \n",
              "Естественный (биология-химия-физика-технари)                                             5   \n",
              "Математический и ИТ                                                                     18   \n",
              "СоцГум                                                                                   0   \n",
              "Экономический                                                                            0   \n",
              "Юридический                                                                              0   \n",
              "\n",
              "Your insitute                                 Математический и ИТ  \\\n",
              "institute                                                           \n",
              "Другое                                                          0   \n",
              "Естественный (биология-химия-физика-технари)                    0   \n",
              "Математический и ИТ                                            35   \n",
              "СоцГум                                                          1   \n",
              "Экономический                                                   0   \n",
              "Юридический                                                     0   \n",
              "\n",
              "Your insitute                                 Педагогический  СоцГум  \\\n",
              "institute                                                              \n",
              "Другое                                                     1       0   \n",
              "Естественный (биология-химия-физика-технари)               1       0   \n",
              "Математический и ИТ                                        6       0   \n",
              "СоцГум                                                     0       6   \n",
              "Экономический                                              0       2   \n",
              "Юридический                                                0       1   \n",
              "\n",
              "Your insitute                                 Экономический  Юридический  \n",
              "institute                                                                 \n",
              "Другое                                                    0            0  \n",
              "Естественный (биология-химия-физика-технари)              0            0  \n",
              "Математический и ИТ                                      12            2  \n",
              "СоцГум                                                    0            0  \n",
              "Экономический                                             1            0  \n",
              "Юридический                                               0            0  "
            ],
            "text/html": [
              "\n",
              "  <div id=\"df-39ba0f4a-e926-488f-a279-4bd7c181f6b6\">\n",
              "    <div class=\"colab-df-container\">\n",
              "      <div>\n",
              "<style scoped>\n",
              "    .dataframe tbody tr th:only-of-type {\n",
              "        vertical-align: middle;\n",
              "    }\n",
              "\n",
              "    .dataframe tbody tr th {\n",
              "        vertical-align: top;\n",
              "    }\n",
              "\n",
              "    .dataframe thead th {\n",
              "        text-align: right;\n",
              "    }\n",
              "</style>\n",
              "<table border=\"1\" class=\"dataframe\">\n",
              "  <thead>\n",
              "    <tr style=\"text-align: right;\">\n",
              "      <th>Your insitute</th>\n",
              "      <th>Другое</th>\n",
              "      <th>Естественный (биология-химия-физика-технари)</th>\n",
              "      <th>Математический и ИТ</th>\n",
              "      <th>Педагогический</th>\n",
              "      <th>СоцГум</th>\n",
              "      <th>Экономический</th>\n",
              "      <th>Юридический</th>\n",
              "    </tr>\n",
              "    <tr>\n",
              "      <th>institute</th>\n",
              "      <th></th>\n",
              "      <th></th>\n",
              "      <th></th>\n",
              "      <th></th>\n",
              "      <th></th>\n",
              "      <th></th>\n",
              "      <th></th>\n",
              "    </tr>\n",
              "  </thead>\n",
              "  <tbody>\n",
              "    <tr>\n",
              "      <th>Другое</th>\n",
              "      <td>1</td>\n",
              "      <td>0</td>\n",
              "      <td>0</td>\n",
              "      <td>1</td>\n",
              "      <td>0</td>\n",
              "      <td>0</td>\n",
              "      <td>0</td>\n",
              "    </tr>\n",
              "    <tr>\n",
              "      <th>Естественный (биология-химия-физика-технари)</th>\n",
              "      <td>0</td>\n",
              "      <td>5</td>\n",
              "      <td>0</td>\n",
              "      <td>1</td>\n",
              "      <td>0</td>\n",
              "      <td>0</td>\n",
              "      <td>0</td>\n",
              "    </tr>\n",
              "    <tr>\n",
              "      <th>Математический и ИТ</th>\n",
              "      <td>5</td>\n",
              "      <td>18</td>\n",
              "      <td>35</td>\n",
              "      <td>6</td>\n",
              "      <td>0</td>\n",
              "      <td>12</td>\n",
              "      <td>2</td>\n",
              "    </tr>\n",
              "    <tr>\n",
              "      <th>СоцГум</th>\n",
              "      <td>0</td>\n",
              "      <td>0</td>\n",
              "      <td>1</td>\n",
              "      <td>0</td>\n",
              "      <td>6</td>\n",
              "      <td>0</td>\n",
              "      <td>0</td>\n",
              "    </tr>\n",
              "    <tr>\n",
              "      <th>Экономический</th>\n",
              "      <td>1</td>\n",
              "      <td>0</td>\n",
              "      <td>0</td>\n",
              "      <td>0</td>\n",
              "      <td>2</td>\n",
              "      <td>1</td>\n",
              "      <td>0</td>\n",
              "    </tr>\n",
              "    <tr>\n",
              "      <th>Юридический</th>\n",
              "      <td>0</td>\n",
              "      <td>0</td>\n",
              "      <td>0</td>\n",
              "      <td>0</td>\n",
              "      <td>1</td>\n",
              "      <td>0</td>\n",
              "      <td>0</td>\n",
              "    </tr>\n",
              "  </tbody>\n",
              "</table>\n",
              "</div>\n",
              "      <button class=\"colab-df-convert\" onclick=\"convertToInteractive('df-39ba0f4a-e926-488f-a279-4bd7c181f6b6')\"\n",
              "              title=\"Convert this dataframe to an interactive table.\"\n",
              "              style=\"display:none;\">\n",
              "        \n",
              "  <svg xmlns=\"http://www.w3.org/2000/svg\" height=\"24px\"viewBox=\"0 0 24 24\"\n",
              "       width=\"24px\">\n",
              "    <path d=\"M0 0h24v24H0V0z\" fill=\"none\"/>\n",
              "    <path d=\"M18.56 5.44l.94 2.06.94-2.06 2.06-.94-2.06-.94-.94-2.06-.94 2.06-2.06.94zm-11 1L8.5 8.5l.94-2.06 2.06-.94-2.06-.94L8.5 2.5l-.94 2.06-2.06.94zm10 10l.94 2.06.94-2.06 2.06-.94-2.06-.94-.94-2.06-.94 2.06-2.06.94z\"/><path d=\"M17.41 7.96l-1.37-1.37c-.4-.4-.92-.59-1.43-.59-.52 0-1.04.2-1.43.59L10.3 9.45l-7.72 7.72c-.78.78-.78 2.05 0 2.83L4 21.41c.39.39.9.59 1.41.59.51 0 1.02-.2 1.41-.59l7.78-7.78 2.81-2.81c.8-.78.8-2.07 0-2.86zM5.41 20L4 18.59l7.72-7.72 1.47 1.35L5.41 20z\"/>\n",
              "  </svg>\n",
              "      </button>\n",
              "      \n",
              "  <style>\n",
              "    .colab-df-container {\n",
              "      display:flex;\n",
              "      flex-wrap:wrap;\n",
              "      gap: 12px;\n",
              "    }\n",
              "\n",
              "    .colab-df-convert {\n",
              "      background-color: #E8F0FE;\n",
              "      border: none;\n",
              "      border-radius: 50%;\n",
              "      cursor: pointer;\n",
              "      display: none;\n",
              "      fill: #1967D2;\n",
              "      height: 32px;\n",
              "      padding: 0 0 0 0;\n",
              "      width: 32px;\n",
              "    }\n",
              "\n",
              "    .colab-df-convert:hover {\n",
              "      background-color: #E2EBFA;\n",
              "      box-shadow: 0px 1px 2px rgba(60, 64, 67, 0.3), 0px 1px 3px 1px rgba(60, 64, 67, 0.15);\n",
              "      fill: #174EA6;\n",
              "    }\n",
              "\n",
              "    [theme=dark] .colab-df-convert {\n",
              "      background-color: #3B4455;\n",
              "      fill: #D2E3FC;\n",
              "    }\n",
              "\n",
              "    [theme=dark] .colab-df-convert:hover {\n",
              "      background-color: #434B5C;\n",
              "      box-shadow: 0px 1px 3px 1px rgba(0, 0, 0, 0.15);\n",
              "      filter: drop-shadow(0px 1px 2px rgba(0, 0, 0, 0.3));\n",
              "      fill: #FFFFFF;\n",
              "    }\n",
              "  </style>\n",
              "\n",
              "      <script>\n",
              "        const buttonEl =\n",
              "          document.querySelector('#df-39ba0f4a-e926-488f-a279-4bd7c181f6b6 button.colab-df-convert');\n",
              "        buttonEl.style.display =\n",
              "          google.colab.kernel.accessAllowed ? 'block' : 'none';\n",
              "\n",
              "        async function convertToInteractive(key) {\n",
              "          const element = document.querySelector('#df-39ba0f4a-e926-488f-a279-4bd7c181f6b6');\n",
              "          const dataTable =\n",
              "            await google.colab.kernel.invokeFunction('convertToInteractive',\n",
              "                                                     [key], {});\n",
              "          if (!dataTable) return;\n",
              "\n",
              "          const docLinkHtml = 'Like what you see? Visit the ' +\n",
              "            '<a target=\"_blank\" href=https://colab.research.google.com/notebooks/data_table.ipynb>data table notebook</a>'\n",
              "            + ' to learn more about interactive tables.';\n",
              "          element.innerHTML = '';\n",
              "          dataTable['output_type'] = 'display_data';\n",
              "          await google.colab.output.renderOutput(dataTable, element);\n",
              "          const docLink = document.createElement('div');\n",
              "          docLink.innerHTML = docLinkHtml;\n",
              "          element.appendChild(docLink);\n",
              "        }\n",
              "      </script>\n",
              "    </div>\n",
              "  </div>\n",
              "  "
            ]
          },
          "metadata": {},
          "execution_count": 59
        }
      ],
      "source": [
        "crt = pd.crosstab(df_test['institute'], df_test['Your insitute'])\n",
        "print(f\"Экономисты, детектированы как математики = {crt.loc['Математический и ИТ', 'Экономический']}\")\n",
        "crt"
      ]
    },
    {
      "cell_type": "code",
      "execution_count": 60,
      "metadata": {
        "colab": {
          "base_uri": "https://localhost:8080/"
        },
        "id": "DstXGXTncYMm",
        "outputId": "81f644e2-216f-4c12-fec2-cc078d74a19d"
      },
      "outputs": [
        {
          "output_type": "stream",
          "name": "stdout",
          "text": [
            "Экономисты, детектированы как математики = 8\n"
          ]
        }
      ],
      "source": [
        "# Натренируйте модель GradientBoostingClassifier(random_state=0) для\n",
        "# предсказания признака \"Your unstitute\" и запустите ее на student_test.csv\n",
        "# В окошко ответа запишите количество экономистов, которые были детектированы\n",
        "# алгоритмом как математики.\n",
        "\n",
        "from sklearn.ensemble import GradientBoostingClassifier\n",
        "\n",
        "model_gb = GradientBoostingClassifier(random_state=0)\n",
        "model_gb.fit(df.iloc[:, 6:17], y=df['Your insitute'])\n",
        "df_test['institute'] = model_gb.predict(df_test.iloc[:, 6:17])\n",
        "crt = pd.crosstab(df_test['institute'], df_test['Your insitute'])\n",
        "print(f\"Экономисты, детектированы как математики = {crt.loc['Математический и ИТ', 'Экономический']}\")"
      ]
    },
    {
      "cell_type": "markdown",
      "metadata": {
        "id": "D60mZK-BcYMn"
      },
      "source": [
        "#### Вероятностные алгоритмы"
      ]
    },
    {
      "cell_type": "code",
      "execution_count": 61,
      "metadata": {
        "id": "6ji_-7StcYMn"
      },
      "outputs": [],
      "source": [
        "# Загрузите данные\n",
        "# df_cut=df[['Growth','Weight','Sex']]\n",
        "# df_cut=df_cut.dropna()\n",
        "# Создайте модель искусственного интеллекта:\n",
        "# model = RandomForestClassifier(max_depth=2, random_state=0)\n",
        "# Обучите ее на данных df_cut. Соберите предсказания из файла students_test.csv\n",
        "# В итоге должна получиться таблица вида:\n",
        "# Узнайте, за принадлежность какому полу отвечают вероятности \"pr class 0\",\n",
        "# \"pr class 1\".\n",
        "# Отсортируйте таблицу по убыванию признака \"pr class 1\". Какой рост имеет\n",
        "# самый верхний элемент в отсортированной таблице? Впишите его в ответ.\n",
        "\n",
        "from sklearn.ensemble import RandomForestClassifier\n",
        "\n",
        "df = pd.read_csv(file_csv)\n",
        "df_test = pd.read_csv(test_csv)\n",
        "\n",
        "df_cut = df[['Growth', 'Weight', 'Sex']].dropna()\n",
        "df_test_cut = df_test[['Growth', 'Weight', 'Sex']].dropna()\n",
        "model_rf = RandomForestClassifier(max_depth=2, random_state=0)\n",
        "model_rf.fit(df_cut[['Growth', 'Weight']], df_cut.Sex)\n",
        "predict = model_rf.predict_proba(df_test_cut[['Growth', 'Weight']])\n",
        "df_test_cut['pr class 0'] = predict[:, 0]\n",
        "df_test_cut['pr class 1'] = predict[:, 1]"
      ]
    },
    {
      "cell_type": "markdown",
      "metadata": {
        "id": "F-gCfNFecYMn"
      },
      "source": [
        "\"pr class 0\" - вероятность детектирования женщин, \"pr class 1\"  - вероятность детектирования мужчин"
      ]
    },
    {
      "cell_type": "code",
      "execution_count": 62,
      "metadata": {
        "colab": {
          "base_uri": "https://localhost:8080/",
          "height": 206
        },
        "id": "r4RRb-x1cYMn",
        "outputId": "d5d79c38-d809-475f-eed7-92823cb86db5"
      },
      "outputs": [
        {
          "output_type": "execute_result",
          "data": {
            "text/plain": [
              "   Growth  Weight      Sex  pr class 0  pr class 1\n",
              "0   180.0    78.0  мужской    0.222825    0.777175\n",
              "1   167.0    50.0  женский    0.939084    0.060916\n",
              "2   178.0    70.0  женский    0.233356    0.766644\n",
              "3   156.0    47.0  женский    0.929445    0.070555\n",
              "4   186.0    94.0  мужской    0.085050    0.914950"
            ],
            "text/html": [
              "\n",
              "  <div id=\"df-543963f2-c2c6-49c8-8fd1-8c44cbc4d415\">\n",
              "    <div class=\"colab-df-container\">\n",
              "      <div>\n",
              "<style scoped>\n",
              "    .dataframe tbody tr th:only-of-type {\n",
              "        vertical-align: middle;\n",
              "    }\n",
              "\n",
              "    .dataframe tbody tr th {\n",
              "        vertical-align: top;\n",
              "    }\n",
              "\n",
              "    .dataframe thead th {\n",
              "        text-align: right;\n",
              "    }\n",
              "</style>\n",
              "<table border=\"1\" class=\"dataframe\">\n",
              "  <thead>\n",
              "    <tr style=\"text-align: right;\">\n",
              "      <th></th>\n",
              "      <th>Growth</th>\n",
              "      <th>Weight</th>\n",
              "      <th>Sex</th>\n",
              "      <th>pr class 0</th>\n",
              "      <th>pr class 1</th>\n",
              "    </tr>\n",
              "  </thead>\n",
              "  <tbody>\n",
              "    <tr>\n",
              "      <th>0</th>\n",
              "      <td>180.0</td>\n",
              "      <td>78.0</td>\n",
              "      <td>мужской</td>\n",
              "      <td>0.222825</td>\n",
              "      <td>0.777175</td>\n",
              "    </tr>\n",
              "    <tr>\n",
              "      <th>1</th>\n",
              "      <td>167.0</td>\n",
              "      <td>50.0</td>\n",
              "      <td>женский</td>\n",
              "      <td>0.939084</td>\n",
              "      <td>0.060916</td>\n",
              "    </tr>\n",
              "    <tr>\n",
              "      <th>2</th>\n",
              "      <td>178.0</td>\n",
              "      <td>70.0</td>\n",
              "      <td>женский</td>\n",
              "      <td>0.233356</td>\n",
              "      <td>0.766644</td>\n",
              "    </tr>\n",
              "    <tr>\n",
              "      <th>3</th>\n",
              "      <td>156.0</td>\n",
              "      <td>47.0</td>\n",
              "      <td>женский</td>\n",
              "      <td>0.929445</td>\n",
              "      <td>0.070555</td>\n",
              "    </tr>\n",
              "    <tr>\n",
              "      <th>4</th>\n",
              "      <td>186.0</td>\n",
              "      <td>94.0</td>\n",
              "      <td>мужской</td>\n",
              "      <td>0.085050</td>\n",
              "      <td>0.914950</td>\n",
              "    </tr>\n",
              "  </tbody>\n",
              "</table>\n",
              "</div>\n",
              "      <button class=\"colab-df-convert\" onclick=\"convertToInteractive('df-543963f2-c2c6-49c8-8fd1-8c44cbc4d415')\"\n",
              "              title=\"Convert this dataframe to an interactive table.\"\n",
              "              style=\"display:none;\">\n",
              "        \n",
              "  <svg xmlns=\"http://www.w3.org/2000/svg\" height=\"24px\"viewBox=\"0 0 24 24\"\n",
              "       width=\"24px\">\n",
              "    <path d=\"M0 0h24v24H0V0z\" fill=\"none\"/>\n",
              "    <path d=\"M18.56 5.44l.94 2.06.94-2.06 2.06-.94-2.06-.94-.94-2.06-.94 2.06-2.06.94zm-11 1L8.5 8.5l.94-2.06 2.06-.94-2.06-.94L8.5 2.5l-.94 2.06-2.06.94zm10 10l.94 2.06.94-2.06 2.06-.94-2.06-.94-.94-2.06-.94 2.06-2.06.94z\"/><path d=\"M17.41 7.96l-1.37-1.37c-.4-.4-.92-.59-1.43-.59-.52 0-1.04.2-1.43.59L10.3 9.45l-7.72 7.72c-.78.78-.78 2.05 0 2.83L4 21.41c.39.39.9.59 1.41.59.51 0 1.02-.2 1.41-.59l7.78-7.78 2.81-2.81c.8-.78.8-2.07 0-2.86zM5.41 20L4 18.59l7.72-7.72 1.47 1.35L5.41 20z\"/>\n",
              "  </svg>\n",
              "      </button>\n",
              "      \n",
              "  <style>\n",
              "    .colab-df-container {\n",
              "      display:flex;\n",
              "      flex-wrap:wrap;\n",
              "      gap: 12px;\n",
              "    }\n",
              "\n",
              "    .colab-df-convert {\n",
              "      background-color: #E8F0FE;\n",
              "      border: none;\n",
              "      border-radius: 50%;\n",
              "      cursor: pointer;\n",
              "      display: none;\n",
              "      fill: #1967D2;\n",
              "      height: 32px;\n",
              "      padding: 0 0 0 0;\n",
              "      width: 32px;\n",
              "    }\n",
              "\n",
              "    .colab-df-convert:hover {\n",
              "      background-color: #E2EBFA;\n",
              "      box-shadow: 0px 1px 2px rgba(60, 64, 67, 0.3), 0px 1px 3px 1px rgba(60, 64, 67, 0.15);\n",
              "      fill: #174EA6;\n",
              "    }\n",
              "\n",
              "    [theme=dark] .colab-df-convert {\n",
              "      background-color: #3B4455;\n",
              "      fill: #D2E3FC;\n",
              "    }\n",
              "\n",
              "    [theme=dark] .colab-df-convert:hover {\n",
              "      background-color: #434B5C;\n",
              "      box-shadow: 0px 1px 3px 1px rgba(0, 0, 0, 0.15);\n",
              "      filter: drop-shadow(0px 1px 2px rgba(0, 0, 0, 0.3));\n",
              "      fill: #FFFFFF;\n",
              "    }\n",
              "  </style>\n",
              "\n",
              "      <script>\n",
              "        const buttonEl =\n",
              "          document.querySelector('#df-543963f2-c2c6-49c8-8fd1-8c44cbc4d415 button.colab-df-convert');\n",
              "        buttonEl.style.display =\n",
              "          google.colab.kernel.accessAllowed ? 'block' : 'none';\n",
              "\n",
              "        async function convertToInteractive(key) {\n",
              "          const element = document.querySelector('#df-543963f2-c2c6-49c8-8fd1-8c44cbc4d415');\n",
              "          const dataTable =\n",
              "            await google.colab.kernel.invokeFunction('convertToInteractive',\n",
              "                                                     [key], {});\n",
              "          if (!dataTable) return;\n",
              "\n",
              "          const docLinkHtml = 'Like what you see? Visit the ' +\n",
              "            '<a target=\"_blank\" href=https://colab.research.google.com/notebooks/data_table.ipynb>data table notebook</a>'\n",
              "            + ' to learn more about interactive tables.';\n",
              "          element.innerHTML = '';\n",
              "          dataTable['output_type'] = 'display_data';\n",
              "          await google.colab.output.renderOutput(dataTable, element);\n",
              "          const docLink = document.createElement('div');\n",
              "          docLink.innerHTML = docLinkHtml;\n",
              "          element.appendChild(docLink);\n",
              "        }\n",
              "      </script>\n",
              "    </div>\n",
              "  </div>\n",
              "  "
            ]
          },
          "metadata": {},
          "execution_count": 62
        }
      ],
      "source": [
        "df_test_cut.head()"
      ]
    },
    {
      "cell_type": "code",
      "execution_count": 63,
      "metadata": {
        "colab": {
          "base_uri": "https://localhost:8080/"
        },
        "id": "2zrT0VpjcYMn",
        "outputId": "41026e65-eb51-4c8f-cefa-79dfb5709ac5"
      },
      "outputs": [
        {
          "output_type": "stream",
          "name": "stdout",
          "text": [
            "Рост первого студента =  194.0\n"
          ]
        }
      ],
      "source": [
        "print('Рост первого студента = ', df_test_cut.sort_values('pr class 1', ascending=False).iloc[0, 0])"
      ]
    },
    {
      "cell_type": "code",
      "execution_count": 64,
      "metadata": {
        "colab": {
          "base_uri": "https://localhost:8080/"
        },
        "id": "54Y-h6qJcYMo",
        "outputId": "0cf9478a-e96c-49a5-b4bc-805c560566b8"
      },
      "outputs": [
        {
          "output_type": "stream",
          "name": "stdout",
          "text": [
            "Рост первой студентки =  162.0\n"
          ]
        }
      ],
      "source": [
        "# Отсортируйте таблицу по убыванию признака \"pr class 0\". Какой рост имеет\n",
        "# самый верхний элемент в отсортированной таблице? Впишите его в ответ.\n",
        "\n",
        "print('Рост первой студентки = ', df_test_cut.sort_values('pr class 0', ascending=False).iloc[0, 0])"
      ]
    },
    {
      "cell_type": "markdown",
      "metadata": {
        "id": "Bo5qA_B9cYMo"
      },
      "source": [
        "#### Селекция признаков"
      ]
    },
    {
      "cell_type": "code",
      "execution_count": 65,
      "metadata": {
        "colab": {
          "base_uri": "https://localhost:8080/"
        },
        "id": "fDc41lb-cYMo",
        "outputId": "3bf5a9c7-32d8-47a4-b0fb-c4d88b19865a"
      },
      "outputs": [
        {
          "output_type": "stream",
          "name": "stdout",
          "text": [
            "Значение признака 'Maths rating' = 0.05154670301940091\n"
          ]
        }
      ],
      "source": [
        "# Повторите всю подготовительную работу (как в лекции), чтобы запустить код:\n",
        "# from sklearn.ensemble import ExtraTreesClassifier\n",
        "# selector=ExtraTreesClassifier()\n",
        "# result=selector.fit(df[df.columns], df['Your insitute'])\n",
        "# result.feature_importances_\n",
        "# Иными словами, мы будем искать наиболее значимые признаки в задаче\n",
        "# предсказания института, где учиться студент.\n",
        "# Какую величину значимости будет иметь признак \"Maths rating\"?\n",
        "# Впишите его в ответ.\n",
        "\n",
        "from sklearn.ensemble import ExtraTreesClassifier\n",
        "from sklearn import preprocessing\n",
        "\n",
        "df = pd.read_csv(file_csv)\n",
        "\n",
        "df.dropna(inplace=True)\n",
        "\n",
        "coder = preprocessing.LabelEncoder()\n",
        "for col in ('Sex', 'Coin', 'Animal', 'Army', 'Glasses', 'Your rating in university', 'Fastfood', 'Hostel', 'Chocolate',\n",
        "                 'Brother-sister', 'Plane seat', 'Problems in last semester', 'Rock paper scissors', 'Strange people', 'Your insitute'):\n",
        "    coder.fit(df[col])\n",
        "    df[col] = coder.transform(df[col])\n",
        "\n",
        "selector = ExtraTreesClassifier()\n",
        "result = selector.fit(df[df.columns], df['Your insitute'])\n",
        "df_features = pd.DataFrame(result.feature_importances_, index=df.columns, columns=['importance'])\n",
        "feat = 'Maths rating'\n",
        "print(f\"Значение признака '{feat}' = {df_features.loc[feat, 'importance']}\")"
      ]
    },
    {
      "cell_type": "code",
      "execution_count": 65,
      "metadata": {
        "id": "B1PUQ6QGcYMo"
      },
      "outputs": [],
      "source": []
    }
  ],
  "metadata": {
    "colab": {
      "provenance": [],
      "include_colab_link": true
    },
    "kernelspec": {
      "display_name": "Python 3",
      "language": "python",
      "name": "python3"
    },
    "language_info": {
      "codemirror_mode": {
        "name": "ipython",
        "version": 3
      },
      "file_extension": ".py",
      "mimetype": "text/x-python",
      "name": "python",
      "nbconvert_exporter": "python",
      "pygments_lexer": "ipython3",
      "version": "3.8.5"
    }
  },
  "nbformat": 4,
  "nbformat_minor": 0
}